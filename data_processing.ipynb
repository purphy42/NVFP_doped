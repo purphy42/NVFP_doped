{
 "cells": [
  {
   "cell_type": "code",
   "execution_count": 15,
   "id": "ede5cc7e-ef46-451a-8910-9d2807997668",
   "metadata": {},
   "outputs": [],
   "source": [
    "import os\n",
    "import numpy as np\n",
    "import pandas as pd\n",
    "import matplotlib.pyplot as plt\n",
    "from tqdm import tqdm\n",
    "from mp_api.client import MPRester\n",
    "\n",
    "from pymatgen.core import Composition, Element\n",
    "from pymatgen.analysis.phase_diagram import GrandPotentialPhaseDiagram, PhaseDiagram, PDPlotter\n",
    "from pymatgen.analysis.interface_reactions import InterfacialReactivity, GrandPotentialInterfacialReactivity\n",
    "from pymatgen.io.vasp import Vasprun\n",
    "from pymatgen.entries.compatibility import MaterialsProject2020Compatibility\n",
    "from pymatgen.entries.computed_entries import ComputedEntry\n",
    "from collections import defaultdict\n",
    "\n",
    "import re\n",
    "import sympy as sp\n",
    "\n",
    "\n"
   ]
  },
  {
   "cell_type": "code",
   "execution_count": 16,
   "id": "88d6025c-0164-47e1-8827-4076dd3c9427",
   "metadata": {},
   "outputs": [],
   "source": [
    "import contextlib\n",
    "import io, sys\n",
    "import siman  # program package to manage DFT calculations https://github.com/dimonaks/siman\n",
    "from siman.calc_manage import smart_structure_read, get_structure_from_matproj\n",
    "from siman.calc_manage import add, res\n",
    "from siman import header\n",
    "from siman.database import write_database, read_database\n",
    "from siman.set_functions import read_vasp_sets\n",
    "from siman.header import db\n",
    "from siman.header import _update_configuration\n",
    "from pydoc import importfile\n",
    "from siman import thermo\n",
    "from matplotlib import rc\n",
    "import matplotlib.pyplot as plt\n",
    "\n",
    "# Suppress output (replaces %%capture)\n",
    "with contextlib.redirect_stdout(io.StringIO()), contextlib.redirect_stderr(io.StringIO()):\n",
    "    # Update configurations\n",
    "    _update_configuration('./project_conf.py')\n",
    "    read_database()  # read saved database if available\n",
    "    \n",
    "    project_sets = importfile('./project_sets.py')\n",
    "    varset = read_vasp_sets(project_sets.user_vasp_sets, override_global=1)  # read user sets\n",
    "\n",
    "    # Set paths\n",
    "    # header.PATH2PROJECT = '../dft_calculations/'\n",
    "    header.PATH2EDITOR = 'notepad.exe'\n",
    "    header.PATH2POTENTIALS = \"/home/a.burov/soft/vasp_potentials/potpaw_PBE_MPIE/\"\n",
    "\n",
    "    # Matplotlib settings (commented out as they're for interactive use)\n",
    "    plt.rcParams['figure.dpi'] = 450"
   ]
  },
  {
   "cell_type": "code",
   "execution_count": null,
   "id": "4dbe1a01-6ec8-41ab-aa31-826938571048",
   "metadata": {},
   "outputs": [],
   "source": []
  },
  {
   "cell_type": "code",
   "execution_count": null,
   "id": "80985370-18a0-406d-934d-1bc08db90d42",
   "metadata": {},
   "outputs": [],
   "source": []
  },
  {
   "cell_type": "code",
   "execution_count": null,
   "id": "b5ea516d-6316-488b-b329-361294357692",
   "metadata": {},
   "outputs": [],
   "source": []
  },
  {
   "cell_type": "code",
   "execution_count": 3,
   "id": "515cf5e5-efeb-4d3d-bec1-11adf04c728a",
   "metadata": {},
   "outputs": [],
   "source": [
    "api_key = 'HbSHn48X1CSvBzRa4DOX5E9rhb5Tcc03'"
   ]
  },
  {
   "cell_type": "code",
   "execution_count": null,
   "id": "9341daa8-af96-4e78-aea2-fa6075c398a0",
   "metadata": {},
   "outputs": [],
   "source": []
  },
  {
   "cell_type": "code",
   "execution_count": null,
   "id": "fa689c05-3b55-4182-89d1-da567cbc02e9",
   "metadata": {},
   "outputs": [],
   "source": []
  },
  {
   "cell_type": "code",
   "execution_count": 4,
   "id": "ded2b754-3977-48ce-9de3-86bd58819d17",
   "metadata": {},
   "outputs": [],
   "source": [
    "def create_dataframe_from_calc(vasprun_path: str, calc_name: str, if_save: bool) -> None:\n",
    "    \"\"\"\n",
    "        Inputs:\n",
    "            vasprun_path - path to vasprun.xml\n",
    "            calc_name - name to save a file\n",
    "            if_save - save pandas dataframe as csv\n",
    "        Returns:\n",
    "            pandasDataframe - dataframe with the results\n",
    "    \"\"\"\n",
    "\n",
    "    # Extraction of the calculation\n",
    "    vasprun = Vasprun(vasprun_path)    \n",
    "    # include structure so proper correction can be applied for oxides and sulfides\n",
    "    reactant2 = vasprun.get_computed_entry(inc_structure=True)\n",
    "    # reactant2.parameters['run_type'] = 'GGA+U'\n",
    "    \n",
    "    compatibility = MaterialsProject2020Compatibility()\n",
    "    # compatibility.process_entry(reactant2)\n",
    "    reactant2 = compatibility.process_entry(reactant2)\n",
    "\n",
    "    reactant2.parameters['run_type'] = 'GGA_GGA+U'\n",
    "    # reactant2.parameters['run_type'] = 'GGA+U'\n",
    "    # reactant2.parameters['run_type'] = 'GGA+U'\n",
    "\n",
    "    # Find coatings \n",
    "    comps = []\n",
    "    emins = []\n",
    "    reactions = []\n",
    "    \n",
    "    with MPRester(api_key=api_key) as mpr:\n",
    "        for comp in tqdm(cathode_coatings.formula_pretty.unique()):\n",
    "            try:\n",
    "                # Is the system open to an elemental reservoir?\n",
    "                grand = False\n",
    "    \n",
    "                if grand:\n",
    "                    # Element in the elemental reservoir.\n",
    "                    open_el = \"Na\" \n",
    "                    # Relative chemical potential vs. pure substance. Must be non-positive.\n",
    "                    relative_mu = 3.25 # average intercalation potential\n",
    "    \n",
    "    \n",
    "                # Get the compositions of the reactants\n",
    "                reactant1 = comp\n",
    "    \n",
    "                comp1 = Composition(reactant1)\n",
    "                comp2 = reactant2.composition # as it is manually calculated phase\n",
    "    \n",
    "                # Gather all elements involved in the chemical system.\n",
    "                # elements = [e.symbol for e in comp1.elements + comp2.elements]\n",
    "                elements = [e.symbol for e in comp1.elements + comp2.elements]\n",
    "                \n",
    "                if grand:\n",
    "                    elements.append(open_el)\n",
    "                elements = list(set(elements))  # Remove duplicates\n",
    "    \n",
    "                entries = mpr.get_entries_in_chemsys(elements, additional_criteria={'thermo_types': ['GGA_GGA+U', \"R2SCAN\"]})\n",
    "\n",
    "                # Apply corrections locally with the mixing scheme\n",
    "                scheme = MaterialsProjectDFTMixingScheme()\n",
    "                corrected_entries = scheme.process_entries(entries)\n",
    "    \n",
    "                # Build a phase diagram using these entries.\n",
    "                phase_diagram = PhaseDiagram(entries)\n",
    "    \n",
    "                # For an open system, include the grand potential phase diagram.\n",
    "                if grand:\n",
    "                    # Get the chemical potential of the pure subtance.\n",
    "                    mu = phase_diagram.get_transition_chempots(Element(open_el))[0]\n",
    "                    # Set the chemical potential in the elemental reservoir.\n",
    "                    chempots = {open_el: relative_mu + mu}\n",
    "                    # Build the grand potential phase diagram\n",
    "                    gpd = GrandPotentialPhaseDiagram(entries, chempots)\n",
    "                    # Create InterfacialReactivity object.\n",
    "                    interface = GrandPotentialInterfacialReactivity(\n",
    "                        comp1,\n",
    "                        comp2,\n",
    "                        gpd,\n",
    "                        norm=True,\n",
    "                        # include_no_mixing_energy=True,\n",
    "                        include_no_mixing_energy=False,\n",
    "                        pd_non_grand=phase_diagram,\n",
    "                        use_hull_energy=True,\n",
    "                    )\n",
    "                    \n",
    "                else:\n",
    "                    interface = InterfacialReactivity(\n",
    "                        comp1,\n",
    "                        comp2,\n",
    "                        phase_diagram,\n",
    "                        norm=True,\n",
    "                        include_no_mixing_energy=False,\n",
    "                        # include_no_mixing_energy=False,\n",
    "                        pd_non_grand=None,\n",
    "                        use_hull_energy=True,\n",
    "                    )\n",
    "                    \n",
    "                interface_table = interface.get_dataframe()\n",
    "                emins.append(interface.get_dataframe()['E$_{\\textrm{rxn}}$ (eV/atom)'].min())\n",
    "                comps.append(comp)\n",
    "                index = np.argmin(interface_table['E$_{\\textrm{rxn}}$ (eV/atom)'].values)\n",
    "                reactions.append(interface_table['Reaction'].iloc[index])\n",
    "            except:\n",
    "                continue\n",
    "\n",
    "    res = pd.DataFrame()\n",
    "    res['formula_pretty'] = comps\n",
    "    res[f'e_rxn_{calc_name}_CC'] = emins\n",
    "    res[f'interface_reaction_{calc_name}'] = reactions\n",
    "\n",
    "    if if_save:\n",
    "        res.merge(cathode_coatings).round(3).to_csv(f'data_nmc/{calc_name}_CC_calculation_results.csv', index = False)\n",
    "        \n",
    "    return res\n",
    "    \n",
    "    \n",
    "    \n"
   ]
  },
  {
   "cell_type": "code",
   "execution_count": null,
   "id": "6188178c-885e-461a-8a92-3a65749c0d76",
   "metadata": {},
   "outputs": [],
   "source": []
  },
  {
   "cell_type": "code",
   "execution_count": 5,
   "id": "c7ffb8ca-a618-4052-8d4b-92c6f31e6ceb",
   "metadata": {},
   "outputs": [],
   "source": [
    "# Path to vasprun.xml file\n",
    "vasprun_path = \"/home/arseniy/Desktop/work/nvpf_al_doped/data/stability/vasprun_inter.xml\"\n",
    "\n"
   ]
  },
  {
   "cell_type": "code",
   "execution_count": null,
   "id": "14574c63-f3da-421c-8ce1-49506c764dba",
   "metadata": {},
   "outputs": [],
   "source": []
  },
  {
   "cell_type": "code",
   "execution_count": null,
   "id": "52d19ab2-b39d-4679-88f2-2b5a9dd822bb",
   "metadata": {},
   "outputs": [],
   "source": [
    "# Parse vasprun.xml\n",
    "vasprun = Vasprun(vasprun_path)\n",
    "\n",
    "# Get final energy\n",
    "final_energy = vasprun.final_energy\n",
    "print(f\"Final energy: {final_energy} eV\")\n"
   ]
  },
  {
   "cell_type": "code",
   "execution_count": null,
   "id": "216c1a66-2933-4c58-8298-b904e1d4d506",
   "metadata": {},
   "outputs": [],
   "source": [
    "vasprun.final_structure.num_sites"
   ]
  },
  {
   "cell_type": "code",
   "execution_count": null,
   "id": "8efffdef-6278-408a-bb07-c7bae4c317de",
   "metadata": {},
   "outputs": [],
   "source": []
  },
  {
   "cell_type": "markdown",
   "id": "df67d1f6-a5d5-47c0-9ae5-445e0d3085ab",
   "metadata": {},
   "source": [
    "## DOS"
   ]
  },
  {
   "cell_type": "code",
   "execution_count": null,
   "id": "ed5b7160-5752-4b35-aaf3-3a33057bb423",
   "metadata": {},
   "outputs": [],
   "source": [
    "# Access the structure\n",
    "structure = vasprun.final_structure\n",
    "# print(structure)\n",
    "\n",
    "# Access density of states (DOS) if included\n",
    "dos = vasprun.complete_dos\n",
    "print(dos)"
   ]
  },
  {
   "cell_type": "code",
   "execution_count": null,
   "id": "918a23de-0cee-43f9-8985-fda4461a8abb",
   "metadata": {},
   "outputs": [],
   "source": []
  },
  {
   "cell_type": "code",
   "execution_count": null,
   "id": "183f3249-4660-4fa7-a22a-d11f2c39cff3",
   "metadata": {},
   "outputs": [],
   "source": []
  },
  {
   "cell_type": "markdown",
   "id": "57f4887a-e276-459a-88b5-15154257dd55",
   "metadata": {},
   "source": [
    "## Thermodynamic stability"
   ]
  },
  {
   "cell_type": "code",
   "execution_count": 6,
   "id": "4d7b01cc-0bb0-4280-8b18-affd785100eb",
   "metadata": {},
   "outputs": [],
   "source": [
    "from pymatgen.entries.compatibility import MaterialsProjectCompatibility\n"
   ]
  },
  {
   "cell_type": "code",
   "execution_count": null,
   "id": "0534995f-1138-4450-b2fb-13a3f6195ce8",
   "metadata": {},
   "outputs": [],
   "source": []
  },
  {
   "cell_type": "code",
   "execution_count": null,
   "id": "084aed45-42ea-483b-b624-a3d965525db1",
   "metadata": {},
   "outputs": [],
   "source": []
  },
  {
   "cell_type": "code",
   "execution_count": 7,
   "id": "34c2ed83-6d4e-4b6d-834c-8b875599752d",
   "metadata": {},
   "outputs": [],
   "source": [
    "def parse_formula(formula):\n",
    "    pattern = r'([A-Z][a-z]?)(\\d*)|(\\()|(\\))(\\d*)'\n",
    "    matches = list(re.finditer(pattern, formula))\n",
    "    \n",
    "    stack = [defaultdict(int)]\n",
    "    \n",
    "    for match in matches:\n",
    "        element, count, open_paren, close_paren, paren_count = match.groups()\n",
    "        \n",
    "        if element:\n",
    "            cnt = int(count) if count else 1\n",
    "            stack[-1][element] += cnt\n",
    "        \n",
    "        elif open_paren:\n",
    "            stack.append(defaultdict(int))\n",
    "        \n",
    "        elif close_paren:\n",
    "            cnt = int(paren_count) if paren_count else 1\n",
    "            group = stack.pop()\n",
    "            for elem, num in group.items():\n",
    "                stack[-1][elem] += num * cnt\n",
    "    \n",
    "    return dict(stack.pop())\n",
    "\n",
    "\n"
   ]
  },
  {
   "cell_type": "code",
   "execution_count": 152,
   "id": "778f7973-7f76-4776-b575-ad3490bbe41b",
   "metadata": {},
   "outputs": [],
   "source": [
    "# Path to vasprun.xml file\n",
    "# vasprun_path = \"/home/arseniy/Desktop/work/nvpf_al_doped/data/stability/vasprun_inter.xml\"\n",
    "# vasprun_path = \"/home/arseniy/Desktop/work/nvpf_al_doped/data/stability/vasprun_deinter.xml\"\n",
    "# vasprun_path = \"/home/arseniy/Desktop/work/nvpf_al_doped/data/stability/vasprun_some_na.xml\"\n",
    "\n",
    "# vasprun_path = \"/home/arseniy/Desktop/work/nvpf_al_doped/data/stability/vasprun_al.xml\"\n",
    "# vasprun_path = \"/home/arseniy/Desktop/work/nvpf_al_doped/data/stability/vasprun_al_some_na.xml\"\n",
    "vasprun_path = \"/home/arseniy/Desktop/work/nvpf_al_doped/data/stability/vasprun_al_some_na_dead.xml\"\n",
    "\n"
   ]
  },
  {
   "cell_type": "code",
   "execution_count": 153,
   "id": "3932a72f-f840-49d1-b73d-ac6753e71418",
   "metadata": {},
   "outputs": [
    {
     "name": "stdout",
     "output_type": "stream",
     "text": [
      "Final energy: -851.87798644 eV eV\n"
     ]
    }
   ],
   "source": [
    "# Parse vasprun.xml\n",
    "vasprun = Vasprun(vasprun_path)\n",
    "\n",
    "# Get final energy\n",
    "final_energy = vasprun.final_energy\n",
    "print(f\"Final energy: {final_energy} eV\")\n"
   ]
  },
  {
   "cell_type": "code",
   "execution_count": 154,
   "id": "d0247793-9d57-4d30-a83e-7f83cd28a3b0",
   "metadata": {},
   "outputs": [],
   "source": [
    "comp_entry = ComputedEntry(vasprun.final_structure.composition, vasprun.final_energy)\n"
   ]
  },
  {
   "cell_type": "code",
   "execution_count": null,
   "id": "3fc91ff9-8f5d-4993-b124-d864a701884e",
   "metadata": {},
   "outputs": [],
   "source": []
  },
  {
   "cell_type": "code",
   "execution_count": null,
   "id": "1d2ec2a4-7338-4090-84db-08e1c61d24d5",
   "metadata": {},
   "outputs": [],
   "source": []
  },
  {
   "cell_type": "code",
   "execution_count": 155,
   "id": "33c22e43-eab2-4b60-b562-48a8ae0d8b48",
   "metadata": {},
   "outputs": [
    {
     "data": {
      "application/vnd.jupyter.widget-view+json": {
       "model_id": "75ee8d596b4d49dcac1a4aa8bbaf0a70",
       "version_major": 2,
       "version_minor": 0
      },
      "text/plain": [
       "Retrieving ThermoDoc documents:   0%|          | 0/1365 [00:00<?, ?it/s]"
      ]
     },
     "metadata": {},
     "output_type": "display_data"
    }
   ],
   "source": [
    "elements = [el.symbol for el in comp_entry.elements]  # elements in your compound\n",
    "\n",
    "with MPRester(api_key) as mpr:\n",
    "    entries = mpr.get_entries_in_chemsys(elements)  # all known phases in this system\n",
    "\n",
    "    "
   ]
  },
  {
   "cell_type": "code",
   "execution_count": 156,
   "id": "a2391e08-2881-49a2-a275-3ee0a93baafc",
   "metadata": {},
   "outputs": [
    {
     "name": "stderr",
     "output_type": "stream",
     "text": [
      "/tmp/ipykernel_316367/992659018.py:1: DeprecationWarning: MaterialsProjectCompatibility is deprecated; use MaterialsProject2020Compatibility instead.\n",
      "Materials Project formation energies use the newer MaterialsProject2020Compatibility scheme.\n",
      "  compat = MaterialsProjectCompatibility()\n"
     ]
    }
   ],
   "source": [
    "compat = MaterialsProjectCompatibility()\n",
    "# MaterialsProject2020Compatibility\n",
    "entries = compat.process_entries(entries)\n",
    "\n",
    "# Also process your entry with the same corrections\n",
    "# entry = compat.process_entry(comp_entry)\n"
   ]
  },
  {
   "cell_type": "code",
   "execution_count": null,
   "id": "ac5f53af-db04-472f-8e9b-4b4b0f31ddcd",
   "metadata": {},
   "outputs": [],
   "source": []
  },
  {
   "cell_type": "code",
   "execution_count": null,
   "id": "88eca21f-dec7-448e-9846-4de6ef6e0c13",
   "metadata": {},
   "outputs": [],
   "source": []
  },
  {
   "cell_type": "code",
   "execution_count": 157,
   "id": "efe5b71c-d951-4581-a670-1593be686aab",
   "metadata": {},
   "outputs": [],
   "source": [
    "def balance_reaction_one_reactant_any_products(reactants, products):\n",
    "    # Get the single reactant name and atom counts\n",
    "    reactant_name = next(iter(reactants))\n",
    "    reactant_counts = reactants[reactant_name]\n",
    "\n",
    "    # Collect unique elements from reactant and all products\n",
    "    elements = sorted(set(reactant_counts.keys()).union(\n",
    "        el for p in products.values() for el in p.keys()\n",
    "    ))\n",
    "\n",
    "    # Create sympy variables: one for reactant 'a' and one for each product\n",
    "    a = sp.symbols('a')\n",
    "    product_vars = sp.symbols(f'b0:{len(products)}')\n",
    "\n",
    "    # Build balance equations for each element\n",
    "    equations = []\n",
    "    for el in elements:\n",
    "        lhs = a * reactant_counts.get(el, 0)  # reactant side\n",
    "        rhs = sum(product_vars[i] * p.get(el, 0) for i, p in enumerate(products.values()))\n",
    "        equations.append(sp.Eq(lhs, rhs))\n",
    "\n",
    "    # Solve for product coefficients in terms of 'a'\n",
    "    vars_to_solve = list(product_vars)\n",
    "    solutions = sp.solve(equations, vars_to_solve, dict=True)\n",
    "    if not solutions:\n",
    "        raise ValueError(\"No solution found to balance the equation.\")\n",
    "    sol = solutions[0]\n",
    "    sol[a] = a  # keep 'a' free\n",
    "\n",
    "    # Substitute a=1 to get numeric coefficients\n",
    "    coeffs = {a: 1}\n",
    "    coeffs.update({var: sol[var].subs(a, 1) for var in product_vars})\n",
    "\n",
    "    # Normalize coefficients to smallest integers\n",
    "    def to_int_fraction(x):\n",
    "        if isinstance(x, int):\n",
    "            return x, 1\n",
    "        else:\n",
    "            p, q = x.as_numer_denom()\n",
    "            return int(p), int(q)\n",
    "\n",
    "    nums_dens = [to_int_fraction(v) for v in coeffs.values()]\n",
    "    from math import gcd\n",
    "    from functools import reduce\n",
    "\n",
    "    def lcm(x, y):\n",
    "        return x * y // gcd(x, y)\n",
    "\n",
    "    common_den = reduce(lcm, (d for _, d in nums_dens), 1)\n",
    "    scaled = [n * (common_den // d) for n, d in nums_dens]\n",
    "    gcd_all = reduce(gcd, scaled)\n",
    "    normalized = [s // gcd_all for s in scaled]\n",
    "\n",
    "    # Prepare output dictionary with species names and their coefficients\n",
    "    balanced_coeffs = {reactant_name: normalized[0]}\n",
    "    for i, pname in enumerate(products):\n",
    "        balanced_coeffs[pname] = normalized[i + 1]\n",
    "\n",
    "    return balanced_coeffs\n",
    "\n"
   ]
  },
  {
   "cell_type": "code",
   "execution_count": null,
   "id": "0e2b8053-f6ff-41e6-824b-e21f13d72668",
   "metadata": {},
   "outputs": [],
   "source": []
  },
  {
   "cell_type": "code",
   "execution_count": 158,
   "id": "5340486e-1a96-47dc-81b9-e4cfaec8172b",
   "metadata": {},
   "outputs": [],
   "source": [
    "st_names = {\n",
    "        \"mp-1238774\": 'navpo4f',\n",
    "        # \"mp-25440\": 'vpo4f',     \n",
    "        \"mp-686540\": 'na3al2p2o8f3',     \n",
    "        \"mp-7848\": 'alpo4',     \n",
    "        \"mp-19291\": 'navpo5',     \n",
    "        \"mp-468\": 'alf3',     \n",
    "        \"mp-559931\": 'vf3',     \n",
    "        \"mp-1094113\": 'NaV2P2O9',     \n",
    "        \"mp-1104878\": 'VPO4F',     \n",
    "        \"mp-17999\": 'NaVF4',     \n",
    "        \"mp-752810\": 'NaVP2O7',     \n",
    "        \"mp-694937\": 'Na3V2P2O8F3',     \n",
    "        \"mp-18835\": 'VPO4',     \n",
    "        \"mp-25265\": 'VPO5',     \n",
    "        \"mp-26728\": 'VP2O7',     \n",
    "        \"mp-1102077\": 'NaAlF4',     \n",
    "       }\n"
   ]
  },
  {
   "cell_type": "code",
   "execution_count": null,
   "id": "dcdf1a94-1d54-40a7-adc9-cead48e31280",
   "metadata": {},
   "outputs": [],
   "source": []
  },
  {
   "cell_type": "code",
   "execution_count": 159,
   "id": "07f53e2e-dc59-4b07-80e7-182515124583",
   "metadata": {},
   "outputs": [
    {
     "name": "stdout",
     "output_type": "stream",
     "text": [
      "Energy above hull: 0.3223 eV/atom\n",
      "Phase decomposes to:\n",
      "0.241*NaV2P2O9 + 0.483*VPO4F + 0.172*VP2O7 + 0.103*NaAlF4 + \n",
      "Decomposition energy is 3 meV/atom\n"
     ]
    }
   ],
   "source": [
    "all_entries = entries + [comp_entry]\n",
    "pd = PhaseDiagram(all_entries)\n",
    "\n",
    "decomp, e_above_hull = pd.get_decomp_and_e_above_hull(comp_entry)\n",
    "\n",
    "reactants = {vasprun.final_structure.reduced_formula: parse_formula(vasprun.final_structure.reduced_formula)}\n",
    "reactant_name = next(iter(reactants))\n",
    "reactant_at = sum(reactants[reactant_name].values())\n",
    "\n",
    "products = {}\n",
    "\n",
    "print(f\"Energy above hull: {e_above_hull:.4f} eV/atom\")\n",
    "if e_above_hull == 0:\n",
    "    print(\"Phase is thermodynamically stable\")\n",
    "elif e_above_hull < 0.05:\n",
    "    print(\"Phase is metastable\")\n",
    "else:\n",
    "    print(\"Phase decomposes to:\")\n",
    "    for entry, amount in decomp.items():\n",
    "        mp_id = getattr(entry, \"entry_id\", \"N/A\")\n",
    "        products[entry.composition.reduced_formula] = parse_formula(entry.composition.reduced_formula)\n",
    "        print(f\"{amount:.3f}*{entry.composition.reduced_formula} + \", end=\"\")\n",
    "\n",
    "    bal = balance_reaction_one_reactant_any_products(reactants, products)\n",
    "    \n",
    "    print()\n",
    "    coeff_react = bal[reactant_name]\n",
    "    en_decomp = (vasprun.final_energy / vasprun.final_structure.num_sites) * reactant_at * coeff_react\n",
    "    for entry, amount in decomp.items():\n",
    "        mp_id = getattr(entry, \"entry_id\", \"N/A\")\n",
    "        mp_id_parse = mp_id.split('-GGA')[0]\n",
    "        react_name = entry.composition.reduced_formula\n",
    "        coeff_prod = bal[react_name]\n",
    "        name_calc = st_names[mp_id_parse]\n",
    "        en_react = db[name_calc, '9_bulk_mp', 1].e0_at\n",
    "        product_at = sum(products[entry.composition.reduced_formula].values())\n",
    "        en_decomp -= en_react * product_at * coeff_prod\n",
    "\n",
    "    en_decomp /= (reactant_at * coeff_react)\n",
    "    # en_decomp /= (reactant_at)\n",
    "    \n",
    "    print(f\"Decomposition energy is {en_decomp*1000:.0f} meV/atom\")\n",
    "\n",
    "        # print(f\"  {entry.composition.reduced_formula} (MP-ID: {mp_id}) : {amount:.3f}\")\n",
    "        "
   ]
  },
  {
   "cell_type": "code",
   "execution_count": null,
   "id": "3299cb92-428c-4664-93bc-cd34cf09e6d6",
   "metadata": {},
   "outputs": [],
   "source": []
  },
  {
   "cell_type": "code",
   "execution_count": 160,
   "id": "c7cac363-6573-4ea7-9001-fbe4c0697e19",
   "metadata": {},
   "outputs": [
    {
     "data": {
      "text/plain": [
       "1"
      ]
     },
     "execution_count": 160,
     "metadata": {},
     "output_type": "execute_result"
    }
   ],
   "source": [
    "coeff_react"
   ]
  },
  {
   "cell_type": "code",
   "execution_count": 161,
   "id": "56d62741-aa66-44a0-92fa-b13a78084bd4",
   "metadata": {},
   "outputs": [
    {
     "data": {
      "text/plain": [
       "{'Na2AlV7P8(O4F)8': 1, 'NaV2P2O9': 1, 'VPO4F': 4, 'VP2O7': 1, 'NaAlF4': 1}"
      ]
     },
     "execution_count": 161,
     "metadata": {},
     "output_type": "execute_result"
    }
   ],
   "source": [
    "bal\n"
   ]
  },
  {
   "cell_type": "code",
   "execution_count": null,
   "id": "5705b377-718e-4f9a-be95-eb88fbb5b592",
   "metadata": {},
   "outputs": [],
   "source": []
  },
  {
   "cell_type": "code",
   "execution_count": null,
   "id": "81eeda73-fbd6-4a89-ba85-b2709f08dd1c",
   "metadata": {},
   "outputs": [],
   "source": []
  },
  {
   "cell_type": "markdown",
   "id": "96d47b1a-f4b7-41c9-a247-f04e2e491636",
   "metadata": {},
   "source": [
    "# Total pDOS on species"
   ]
  },
  {
   "cell_type": "code",
   "execution_count": null,
   "id": "f88bb955-9018-4cd4-a43a-0fcd3e560727",
   "metadata": {},
   "outputs": [],
   "source": []
  },
  {
   "cell_type": "code",
   "execution_count": null,
   "id": "b532483d-5b05-4dc5-8b14-0eeede334be8",
   "metadata": {},
   "outputs": [],
   "source": []
  },
  {
   "cell_type": "code",
   "execution_count": null,
   "id": "397d937e-fc02-42c6-bc9d-e04126e81158",
   "metadata": {},
   "outputs": [],
   "source": []
  },
  {
   "cell_type": "code",
   "execution_count": null,
   "id": "292646c7-f3ee-4f52-bfad-43d32a14f617",
   "metadata": {},
   "outputs": [],
   "source": []
  },
  {
   "cell_type": "code",
   "execution_count": null,
   "id": "1d610e51-4677-4dd5-878e-3dad6906b5cc",
   "metadata": {},
   "outputs": [],
   "source": []
  },
  {
   "cell_type": "code",
   "execution_count": null,
   "id": "f65db992-d7c9-4dc7-9530-1b6815fecc50",
   "metadata": {},
   "outputs": [],
   "source": []
  },
  {
   "cell_type": "markdown",
   "id": "4df88191-3f40-4710-8fc1-686985a53195",
   "metadata": {},
   "source": []
  },
  {
   "cell_type": "code",
   "execution_count": null,
   "id": "fafaa257-821f-4427-92dc-33068d6c551e",
   "metadata": {},
   "outputs": [],
   "source": []
  }
 ],
 "metadata": {
  "kernelspec": {
   "display_name": "default",
   "language": "python",
   "name": "default"
  },
  "language_info": {
   "codemirror_mode": {
    "name": "ipython",
    "version": 3
   },
   "file_extension": ".py",
   "mimetype": "text/x-python",
   "name": "python",
   "nbconvert_exporter": "python",
   "pygments_lexer": "ipython3",
   "version": "3.12.9"
  }
 },
 "nbformat": 4,
 "nbformat_minor": 5
}

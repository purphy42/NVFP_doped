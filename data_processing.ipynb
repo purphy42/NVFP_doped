{
 "cells": [
  {
   "cell_type": "code",
   "execution_count": 50,
   "id": "ede5cc7e-ef46-451a-8910-9d2807997668",
   "metadata": {},
   "outputs": [],
   "source": [
    "import os\n",
    "import numpy as np\n",
    "import pandas as pd\n",
    "import matplotlib.pyplot as plt\n",
    "from tqdm import tqdm\n",
    "from mp_api.client import MPRester\n",
    "\n",
    "from pymatgen.core import Composition, Element\n",
    "from pymatgen.analysis.phase_diagram import GrandPotentialPhaseDiagram, PhaseDiagram, PDPlotter\n",
    "from pymatgen.analysis.interface_reactions import InterfacialReactivity, GrandPotentialInterfacialReactivity\n",
    "from pymatgen.io.vasp import Vasprun\n",
    "from pymatgen.entries.compatibility import MaterialsProject2020Compatibility\n",
    "from pymatgen.entries.computed_entries import ComputedEntry\n",
    "from collections import defaultdict\n",
    "\n",
    "import re\n",
    "import sympy as sp\n",
    "\n",
    "\n"
   ]
  },
  {
   "cell_type": "code",
   "execution_count": 51,
   "id": "88d6025c-0164-47e1-8827-4076dd3c9427",
   "metadata": {},
   "outputs": [],
   "source": [
    "import contextlib\n",
    "import io, sys\n",
    "import siman  # program package to manage DFT calculations https://github.com/dimonaks/siman\n",
    "from siman.calc_manage import smart_structure_read, get_structure_from_matproj\n",
    "from siman.calc_manage import add, res\n",
    "from siman import header\n",
    "from siman.database import write_database, read_database\n",
    "from siman.set_functions import read_vasp_sets\n",
    "from siman.header import db\n",
    "from siman.header import _update_configuration\n",
    "from pydoc import importfile\n",
    "from siman import thermo\n",
    "from matplotlib import rc\n",
    "import matplotlib.pyplot as plt\n",
    "\n",
    "# Suppress output (replaces %%capture)\n",
    "with contextlib.redirect_stdout(io.StringIO()), contextlib.redirect_stderr(io.StringIO()):\n",
    "    # Update configurations\n",
    "    _update_configuration('./project_conf.py')\n",
    "    read_database()  # read saved database if available\n",
    "    \n",
    "    project_sets = importfile('./project_sets.py')\n",
    "    varset = read_vasp_sets(project_sets.user_vasp_sets, override_global=1)  # read user sets\n",
    "\n",
    "    # Set paths\n",
    "    # header.PATH2PROJECT = '../dft_calculations/'\n",
    "    header.PATH2EDITOR = 'notepad.exe'\n",
    "    header.PATH2POTENTIALS = \"/home/a.burov/soft/vasp_potentials/potpaw_PBE_MPIE/\"\n",
    "\n",
    "    # Matplotlib settings (commented out as they're for interactive use)\n",
    "    plt.rcParams['figure.dpi'] = 450"
   ]
  },
  {
   "cell_type": "code",
   "execution_count": null,
   "id": "4dbe1a01-6ec8-41ab-aa31-826938571048",
   "metadata": {},
   "outputs": [],
   "source": []
  },
  {
   "cell_type": "code",
   "execution_count": null,
   "id": "80985370-18a0-406d-934d-1bc08db90d42",
   "metadata": {},
   "outputs": [],
   "source": []
  },
  {
   "cell_type": "code",
   "execution_count": null,
   "id": "b5ea516d-6316-488b-b329-361294357692",
   "metadata": {},
   "outputs": [],
   "source": []
  },
  {
   "cell_type": "code",
   "execution_count": 52,
   "id": "515cf5e5-efeb-4d3d-bec1-11adf04c728a",
   "metadata": {},
   "outputs": [],
   "source": [
    "api_key = 'HbSHn48X1CSvBzRa4DOX5E9rhb5Tcc03'"
   ]
  },
  {
   "cell_type": "code",
   "execution_count": null,
   "id": "9341daa8-af96-4e78-aea2-fa6075c398a0",
   "metadata": {},
   "outputs": [],
   "source": []
  },
  {
   "cell_type": "code",
   "execution_count": null,
   "id": "fa689c05-3b55-4182-89d1-da567cbc02e9",
   "metadata": {},
   "outputs": [],
   "source": []
  },
  {
   "cell_type": "code",
   "execution_count": 4,
   "id": "ded2b754-3977-48ce-9de3-86bd58819d17",
   "metadata": {},
   "outputs": [],
   "source": [
    "def create_dataframe_from_calc(vasprun_path: str, calc_name: str, if_save: bool) -> None:\n",
    "    \"\"\"\n",
    "        Inputs:\n",
    "            vasprun_path - path to vasprun.xml\n",
    "            calc_name - name to save a file\n",
    "            if_save - save pandas dataframe as csv\n",
    "        Returns:\n",
    "            pandasDataframe - dataframe with the results\n",
    "    \"\"\"\n",
    "\n",
    "    # Extraction of the calculation\n",
    "    vasprun = Vasprun(vasprun_path)    \n",
    "    # include structure so proper correction can be applied for oxides and sulfides\n",
    "    reactant2 = vasprun.get_computed_entry(inc_structure=True)\n",
    "    # reactant2.parameters['run_type'] = 'GGA+U'\n",
    "    \n",
    "    compatibility = MaterialsProject2020Compatibility()\n",
    "    # compatibility.process_entry(reactant2)\n",
    "    reactant2 = compatibility.process_entry(reactant2)\n",
    "\n",
    "    reactant2.parameters['run_type'] = 'GGA_GGA+U'\n",
    "    # reactant2.parameters['run_type'] = 'GGA+U'\n",
    "    # reactant2.parameters['run_type'] = 'GGA+U'\n",
    "\n",
    "    # Find coatings \n",
    "    comps = []\n",
    "    emins = []\n",
    "    reactions = []\n",
    "    \n",
    "    with MPRester(api_key=api_key) as mpr:\n",
    "        for comp in tqdm(cathode_coatings.formula_pretty.unique()):\n",
    "            try:\n",
    "                # Is the system open to an elemental reservoir?\n",
    "                grand = False\n",
    "    \n",
    "                if grand:\n",
    "                    # Element in the elemental reservoir.\n",
    "                    open_el = \"Na\" \n",
    "                    # Relative chemical potential vs. pure substance. Must be non-positive.\n",
    "                    relative_mu = 3.25 # average intercalation potential\n",
    "    \n",
    "    \n",
    "                # Get the compositions of the reactants\n",
    "                reactant1 = comp\n",
    "    \n",
    "                comp1 = Composition(reactant1)\n",
    "                comp2 = reactant2.composition # as it is manually calculated phase\n",
    "    \n",
    "                # Gather all elements involved in the chemical system.\n",
    "                # elements = [e.symbol for e in comp1.elements + comp2.elements]\n",
    "                elements = [e.symbol for e in comp1.elements + comp2.elements]\n",
    "                \n",
    "                if grand:\n",
    "                    elements.append(open_el)\n",
    "                elements = list(set(elements))  # Remove duplicates\n",
    "    \n",
    "                entries = mpr.get_entries_in_chemsys(elements, additional_criteria={'thermo_types': ['GGA_GGA+U', \"R2SCAN\"]})\n",
    "\n",
    "                # Apply corrections locally with the mixing scheme\n",
    "                scheme = MaterialsProjectDFTMixingScheme()\n",
    "                corrected_entries = scheme.process_entries(entries)\n",
    "    \n",
    "                # Build a phase diagram using these entries.\n",
    "                phase_diagram = PhaseDiagram(entries)\n",
    "    \n",
    "                # For an open system, include the grand potential phase diagram.\n",
    "                if grand:\n",
    "                    # Get the chemical potential of the pure subtance.\n",
    "                    mu = phase_diagram.get_transition_chempots(Element(open_el))[0]\n",
    "                    # Set the chemical potential in the elemental reservoir.\n",
    "                    chempots = {open_el: relative_mu + mu}\n",
    "                    # Build the grand potential phase diagram\n",
    "                    gpd = GrandPotentialPhaseDiagram(entries, chempots)\n",
    "                    # Create InterfacialReactivity object.\n",
    "                    interface = GrandPotentialInterfacialReactivity(\n",
    "                        comp1,\n",
    "                        comp2,\n",
    "                        gpd,\n",
    "                        norm=True,\n",
    "                        # include_no_mixing_energy=True,\n",
    "                        include_no_mixing_energy=False,\n",
    "                        pd_non_grand=phase_diagram,\n",
    "                        use_hull_energy=True,\n",
    "                    )\n",
    "                    \n",
    "                else:\n",
    "                    interface = InterfacialReactivity(\n",
    "                        comp1,\n",
    "                        comp2,\n",
    "                        phase_diagram,\n",
    "                        norm=True,\n",
    "                        include_no_mixing_energy=False,\n",
    "                        # include_no_mixing_energy=False,\n",
    "                        pd_non_grand=None,\n",
    "                        use_hull_energy=True,\n",
    "                    )\n",
    "                    \n",
    "                interface_table = interface.get_dataframe()\n",
    "                emins.append(interface.get_dataframe()['E$_{\\textrm{rxn}}$ (eV/atom)'].min())\n",
    "                comps.append(comp)\n",
    "                index = np.argmin(interface_table['E$_{\\textrm{rxn}}$ (eV/atom)'].values)\n",
    "                reactions.append(interface_table['Reaction'].iloc[index])\n",
    "            except:\n",
    "                continue\n",
    "\n",
    "    res = pd.DataFrame()\n",
    "    res['formula_pretty'] = comps\n",
    "    res[f'e_rxn_{calc_name}_CC'] = emins\n",
    "    res[f'interface_reaction_{calc_name}'] = reactions\n",
    "\n",
    "    if if_save:\n",
    "        res.merge(cathode_coatings).round(3).to_csv(f'data_nmc/{calc_name}_CC_calculation_results.csv', index = False)\n",
    "        \n",
    "    return res\n",
    "    \n",
    "    \n",
    "    \n"
   ]
  },
  {
   "cell_type": "code",
   "execution_count": null,
   "id": "6188178c-885e-461a-8a92-3a65749c0d76",
   "metadata": {},
   "outputs": [],
   "source": []
  },
  {
   "cell_type": "code",
   "execution_count": 5,
   "id": "c7ffb8ca-a618-4052-8d4b-92c6f31e6ceb",
   "metadata": {},
   "outputs": [],
   "source": [
    "# Path to vasprun.xml file\n",
    "vasprun_path = \"/home/arseniy/Desktop/work/nvpf_al_doped/data/stability/vasprun_inter.xml\"\n",
    "\n"
   ]
  },
  {
   "cell_type": "code",
   "execution_count": null,
   "id": "14574c63-f3da-421c-8ce1-49506c764dba",
   "metadata": {},
   "outputs": [],
   "source": []
  },
  {
   "cell_type": "code",
   "execution_count": null,
   "id": "52d19ab2-b39d-4679-88f2-2b5a9dd822bb",
   "metadata": {},
   "outputs": [],
   "source": [
    "# Parse vasprun.xml\n",
    "vasprun = Vasprun(vasprun_path)\n",
    "\n",
    "# Get final energy\n",
    "final_energy = vasprun.final_energy\n",
    "print(f\"Final energy: {final_energy} eV\")\n"
   ]
  },
  {
   "cell_type": "code",
   "execution_count": null,
   "id": "216c1a66-2933-4c58-8298-b904e1d4d506",
   "metadata": {},
   "outputs": [],
   "source": [
    "vasprun.final_structure.num_sites"
   ]
  },
  {
   "cell_type": "code",
   "execution_count": null,
   "id": "8efffdef-6278-408a-bb07-c7bae4c317de",
   "metadata": {},
   "outputs": [],
   "source": []
  },
  {
   "cell_type": "code",
   "execution_count": null,
   "id": "ed5b7160-5752-4b35-aaf3-3a33057bb423",
   "metadata": {},
   "outputs": [],
   "source": [
    "# Access the structure\n",
    "structure = vasprun.final_structure\n",
    "# print(structure)\n"
   ]
  },
  {
   "cell_type": "code",
   "execution_count": null,
   "id": "918a23de-0cee-43f9-8985-fda4461a8abb",
   "metadata": {},
   "outputs": [],
   "source": []
  },
  {
   "cell_type": "code",
   "execution_count": null,
   "id": "183f3249-4660-4fa7-a22a-d11f2c39cff3",
   "metadata": {},
   "outputs": [],
   "source": []
  },
  {
   "cell_type": "markdown",
   "id": "57f4887a-e276-459a-88b5-15154257dd55",
   "metadata": {},
   "source": [
    "## Thermodynamic stability"
   ]
  },
  {
   "cell_type": "code",
   "execution_count": 6,
   "id": "4d7b01cc-0bb0-4280-8b18-affd785100eb",
   "metadata": {},
   "outputs": [],
   "source": [
    "from pymatgen.entries.compatibility import MaterialsProjectCompatibility\n"
   ]
  },
  {
   "cell_type": "code",
   "execution_count": null,
   "id": "0534995f-1138-4450-b2fb-13a3f6195ce8",
   "metadata": {},
   "outputs": [],
   "source": []
  },
  {
   "cell_type": "code",
   "execution_count": null,
   "id": "084aed45-42ea-483b-b624-a3d965525db1",
   "metadata": {},
   "outputs": [],
   "source": []
  },
  {
   "cell_type": "code",
   "execution_count": 7,
   "id": "34c2ed83-6d4e-4b6d-834c-8b875599752d",
   "metadata": {},
   "outputs": [],
   "source": [
    "def parse_formula(formula):\n",
    "    pattern = r'([A-Z][a-z]?)(\\d*)|(\\()|(\\))(\\d*)'\n",
    "    matches = list(re.finditer(pattern, formula))\n",
    "    \n",
    "    stack = [defaultdict(int)]\n",
    "    \n",
    "    for match in matches:\n",
    "        element, count, open_paren, close_paren, paren_count = match.groups()\n",
    "        \n",
    "        if element:\n",
    "            cnt = int(count) if count else 1\n",
    "            stack[-1][element] += cnt\n",
    "        \n",
    "        elif open_paren:\n",
    "            stack.append(defaultdict(int))\n",
    "        \n",
    "        elif close_paren:\n",
    "            cnt = int(paren_count) if paren_count else 1\n",
    "            group = stack.pop()\n",
    "            for elem, num in group.items():\n",
    "                stack[-1][elem] += num * cnt\n",
    "    \n",
    "    return dict(stack.pop())\n",
    "\n",
    "\n"
   ]
  },
  {
   "cell_type": "code",
   "execution_count": 152,
   "id": "778f7973-7f76-4776-b575-ad3490bbe41b",
   "metadata": {},
   "outputs": [],
   "source": [
    "# Path to vasprun.xml file\n",
    "# vasprun_path = \"/home/arseniy/Desktop/work/nvpf_al_doped/data/stability/vasprun_inter.xml\"\n",
    "# vasprun_path = \"/home/arseniy/Desktop/work/nvpf_al_doped/data/stability/vasprun_deinter.xml\"\n",
    "# vasprun_path = \"/home/arseniy/Desktop/work/nvpf_al_doped/data/stability/vasprun_some_na.xml\"\n",
    "\n",
    "# vasprun_path = \"/home/arseniy/Desktop/work/nvpf_al_doped/data/stability/vasprun_al.xml\"\n",
    "# vasprun_path = \"/home/arseniy/Desktop/work/nvpf_al_doped/data/stability/vasprun_al_some_na.xml\"\n",
    "# vasprun_path = \"/home/arseniy/Desktop/work/nvpf_al_doped/data/stability/vasprun_al_some_na_dead.xml\"\n",
    "\n",
    "vasprun_path = \"/home/arseniy/Desktop/work/nvpf_al_doped/data/stability/vasprun_al_some_na_dead.xml\"\n",
    "\n"
   ]
  },
  {
   "cell_type": "code",
   "execution_count": 153,
   "id": "3932a72f-f840-49d1-b73d-ac6753e71418",
   "metadata": {},
   "outputs": [
    {
     "name": "stdout",
     "output_type": "stream",
     "text": [
      "Final energy: -851.87798644 eV eV\n"
     ]
    }
   ],
   "source": [
    "# Parse vasprun.xml\n",
    "vasprun = Vasprun(vasprun_path)\n",
    "\n",
    "# Get final energy\n",
    "final_energy = vasprun.final_energy\n",
    "print(f\"Final energy: {final_energy} eV\")\n"
   ]
  },
  {
   "cell_type": "code",
   "execution_count": 154,
   "id": "d0247793-9d57-4d30-a83e-7f83cd28a3b0",
   "metadata": {},
   "outputs": [],
   "source": [
    "comp_entry = ComputedEntry(vasprun.final_structure.composition, vasprun.final_energy)\n"
   ]
  },
  {
   "cell_type": "code",
   "execution_count": null,
   "id": "3fc91ff9-8f5d-4993-b124-d864a701884e",
   "metadata": {},
   "outputs": [],
   "source": []
  },
  {
   "cell_type": "code",
   "execution_count": null,
   "id": "1d2ec2a4-7338-4090-84db-08e1c61d24d5",
   "metadata": {},
   "outputs": [],
   "source": []
  },
  {
   "cell_type": "code",
   "execution_count": 155,
   "id": "33c22e43-eab2-4b60-b562-48a8ae0d8b48",
   "metadata": {},
   "outputs": [
    {
     "data": {
      "application/vnd.jupyter.widget-view+json": {
       "model_id": "75ee8d596b4d49dcac1a4aa8bbaf0a70",
       "version_major": 2,
       "version_minor": 0
      },
      "text/plain": [
       "Retrieving ThermoDoc documents:   0%|          | 0/1365 [00:00<?, ?it/s]"
      ]
     },
     "metadata": {},
     "output_type": "display_data"
    }
   ],
   "source": [
    "elements = [el.symbol for el in comp_entry.elements]  # elements in your compound\n",
    "\n",
    "with MPRester(api_key) as mpr:\n",
    "    entries = mpr.get_entries_in_chemsys(elements)  # all known phases in this system\n",
    "\n",
    "    "
   ]
  },
  {
   "cell_type": "code",
   "execution_count": 156,
   "id": "a2391e08-2881-49a2-a275-3ee0a93baafc",
   "metadata": {},
   "outputs": [
    {
     "name": "stderr",
     "output_type": "stream",
     "text": [
      "/tmp/ipykernel_316367/992659018.py:1: DeprecationWarning: MaterialsProjectCompatibility is deprecated; use MaterialsProject2020Compatibility instead.\n",
      "Materials Project formation energies use the newer MaterialsProject2020Compatibility scheme.\n",
      "  compat = MaterialsProjectCompatibility()\n"
     ]
    }
   ],
   "source": [
    "compat = MaterialsProjectCompatibility()\n",
    "# MaterialsProject2020Compatibility\n",
    "entries = compat.process_entries(entries)\n",
    "\n",
    "# Also process your entry with the same corrections\n",
    "# entry = compat.process_entry(comp_entry)\n"
   ]
  },
  {
   "cell_type": "code",
   "execution_count": null,
   "id": "ac5f53af-db04-472f-8e9b-4b4b0f31ddcd",
   "metadata": {},
   "outputs": [],
   "source": []
  },
  {
   "cell_type": "code",
   "execution_count": null,
   "id": "88eca21f-dec7-448e-9846-4de6ef6e0c13",
   "metadata": {},
   "outputs": [],
   "source": []
  },
  {
   "cell_type": "code",
   "execution_count": 157,
   "id": "efe5b71c-d951-4581-a670-1593be686aab",
   "metadata": {},
   "outputs": [],
   "source": [
    "def balance_reaction_one_reactant_any_products(reactants, products):\n",
    "    # Get the single reactant name and atom counts\n",
    "    reactant_name = next(iter(reactants))\n",
    "    reactant_counts = reactants[reactant_name]\n",
    "\n",
    "    # Collect unique elements from reactant and all products\n",
    "    elements = sorted(set(reactant_counts.keys()).union(\n",
    "        el for p in products.values() for el in p.keys()\n",
    "    ))\n",
    "\n",
    "    # Create sympy variables: one for reactant 'a' and one for each product\n",
    "    a = sp.symbols('a')\n",
    "    product_vars = sp.symbols(f'b0:{len(products)}')\n",
    "\n",
    "    # Build balance equations for each element\n",
    "    equations = []\n",
    "    for el in elements:\n",
    "        lhs = a * reactant_counts.get(el, 0)  # reactant side\n",
    "        rhs = sum(product_vars[i] * p.get(el, 0) for i, p in enumerate(products.values()))\n",
    "        equations.append(sp.Eq(lhs, rhs))\n",
    "\n",
    "    # Solve for product coefficients in terms of 'a'\n",
    "    vars_to_solve = list(product_vars)\n",
    "    solutions = sp.solve(equations, vars_to_solve, dict=True)\n",
    "    if not solutions:\n",
    "        raise ValueError(\"No solution found to balance the equation.\")\n",
    "    sol = solutions[0]\n",
    "    sol[a] = a  # keep 'a' free\n",
    "\n",
    "    # Substitute a=1 to get numeric coefficients\n",
    "    coeffs = {a: 1}\n",
    "    coeffs.update({var: sol[var].subs(a, 1) for var in product_vars})\n",
    "\n",
    "    # Normalize coefficients to smallest integers\n",
    "    def to_int_fraction(x):\n",
    "        if isinstance(x, int):\n",
    "            return x, 1\n",
    "        else:\n",
    "            p, q = x.as_numer_denom()\n",
    "            return int(p), int(q)\n",
    "\n",
    "    nums_dens = [to_int_fraction(v) for v in coeffs.values()]\n",
    "    from math import gcd\n",
    "    from functools import reduce\n",
    "\n",
    "    def lcm(x, y):\n",
    "        return x * y // gcd(x, y)\n",
    "\n",
    "    common_den = reduce(lcm, (d for _, d in nums_dens), 1)\n",
    "    scaled = [n * (common_den // d) for n, d in nums_dens]\n",
    "    gcd_all = reduce(gcd, scaled)\n",
    "    normalized = [s // gcd_all for s in scaled]\n",
    "\n",
    "    # Prepare output dictionary with species names and their coefficients\n",
    "    balanced_coeffs = {reactant_name: normalized[0]}\n",
    "    for i, pname in enumerate(products):\n",
    "        balanced_coeffs[pname] = normalized[i + 1]\n",
    "\n",
    "    return balanced_coeffs\n",
    "\n"
   ]
  },
  {
   "cell_type": "code",
   "execution_count": null,
   "id": "0e2b8053-f6ff-41e6-824b-e21f13d72668",
   "metadata": {},
   "outputs": [],
   "source": []
  },
  {
   "cell_type": "code",
   "execution_count": 158,
   "id": "5340486e-1a96-47dc-81b9-e4cfaec8172b",
   "metadata": {},
   "outputs": [],
   "source": [
    "st_names = {\n",
    "        \"mp-1238774\": 'navpo4f',\n",
    "        # \"mp-25440\": 'vpo4f',     \n",
    "        \"mp-686540\": 'na3al2p2o8f3',     \n",
    "        \"mp-7848\": 'alpo4',     \n",
    "        \"mp-19291\": 'navpo5',     \n",
    "        \"mp-468\": 'alf3',     \n",
    "        \"mp-559931\": 'vf3',     \n",
    "        \"mp-1094113\": 'NaV2P2O9',     \n",
    "        \"mp-1104878\": 'VPO4F',     \n",
    "        \"mp-17999\": 'NaVF4',     \n",
    "        \"mp-752810\": 'NaVP2O7',     \n",
    "        \"mp-694937\": 'Na3V2P2O8F3',     \n",
    "        \"mp-18835\": 'VPO4',     \n",
    "        \"mp-25265\": 'VPO5',     \n",
    "        \"mp-26728\": 'VP2O7',     \n",
    "        \"mp-1102077\": 'NaAlF4',     \n",
    "       }\n"
   ]
  },
  {
   "cell_type": "code",
   "execution_count": null,
   "id": "dcdf1a94-1d54-40a7-adc9-cead48e31280",
   "metadata": {},
   "outputs": [],
   "source": []
  },
  {
   "cell_type": "code",
   "execution_count": 159,
   "id": "07f53e2e-dc59-4b07-80e7-182515124583",
   "metadata": {},
   "outputs": [
    {
     "name": "stdout",
     "output_type": "stream",
     "text": [
      "Energy above hull: 0.3223 eV/atom\n",
      "Phase decomposes to:\n",
      "0.241*NaV2P2O9 + 0.483*VPO4F + 0.172*VP2O7 + 0.103*NaAlF4 + \n",
      "Decomposition energy is 3 meV/atom\n"
     ]
    }
   ],
   "source": [
    "all_entries = entries + [comp_entry]\n",
    "pd = PhaseDiagram(all_entries)\n",
    "\n",
    "decomp, e_above_hull = pd.get_decomp_and_e_above_hull(comp_entry)\n",
    "\n",
    "reactants = {vasprun.final_structure.reduced_formula: parse_formula(vasprun.final_structure.reduced_formula)}\n",
    "reactant_name = next(iter(reactants))\n",
    "reactant_at = sum(reactants[reactant_name].values())\n",
    "\n",
    "products = {}\n",
    "\n",
    "print(f\"Energy above hull: {e_above_hull:.4f} eV/atom\")\n",
    "if e_above_hull == 0:\n",
    "    print(\"Phase is thermodynamically stable\")\n",
    "elif e_above_hull < 0.05:\n",
    "    print(\"Phase is metastable\")\n",
    "else:\n",
    "    print(\"Phase decomposes to:\")\n",
    "    for entry, amount in decomp.items():\n",
    "        mp_id = getattr(entry, \"entry_id\", \"N/A\")\n",
    "        products[entry.composition.reduced_formula] = parse_formula(entry.composition.reduced_formula)\n",
    "        print(f\"{amount:.3f}*{entry.composition.reduced_formula} + \", end=\"\")\n",
    "\n",
    "    bal = balance_reaction_one_reactant_any_products(reactants, products)\n",
    "    \n",
    "    print()\n",
    "    coeff_react = bal[reactant_name]\n",
    "    en_decomp = (vasprun.final_energy / vasprun.final_structure.num_sites) * reactant_at * coeff_react\n",
    "    for entry, amount in decomp.items():\n",
    "        mp_id = getattr(entry, \"entry_id\", \"N/A\")\n",
    "        mp_id_parse = mp_id.split('-GGA')[0]\n",
    "        react_name = entry.composition.reduced_formula\n",
    "        coeff_prod = bal[react_name]\n",
    "        name_calc = st_names[mp_id_parse]\n",
    "        en_react = db[name_calc, '9_bulk_mp', 1].e0_at\n",
    "        product_at = sum(products[entry.composition.reduced_formula].values())\n",
    "        en_decomp -= en_react * product_at * coeff_prod\n",
    "\n",
    "    en_decomp /= (reactant_at * coeff_react)\n",
    "    # en_decomp /= (reactant_at)\n",
    "    \n",
    "    print(f\"Decomposition energy is {en_decomp*1000:.0f} meV/atom\")\n",
    "\n",
    "        # print(f\"  {entry.composition.reduced_formula} (MP-ID: {mp_id}) : {amount:.3f}\")\n",
    "        "
   ]
  },
  {
   "cell_type": "code",
   "execution_count": null,
   "id": "3299cb92-428c-4664-93bc-cd34cf09e6d6",
   "metadata": {},
   "outputs": [],
   "source": []
  },
  {
   "cell_type": "code",
   "execution_count": 160,
   "id": "c7cac363-6573-4ea7-9001-fbe4c0697e19",
   "metadata": {},
   "outputs": [
    {
     "data": {
      "text/plain": [
       "1"
      ]
     },
     "execution_count": 160,
     "metadata": {},
     "output_type": "execute_result"
    }
   ],
   "source": [
    "coeff_react"
   ]
  },
  {
   "cell_type": "code",
   "execution_count": 161,
   "id": "56d62741-aa66-44a0-92fa-b13a78084bd4",
   "metadata": {},
   "outputs": [
    {
     "data": {
      "text/plain": [
       "{'Na2AlV7P8(O4F)8': 1, 'NaV2P2O9': 1, 'VPO4F': 4, 'VP2O7': 1, 'NaAlF4': 1}"
      ]
     },
     "execution_count": 161,
     "metadata": {},
     "output_type": "execute_result"
    }
   ],
   "source": [
    "bal\n"
   ]
  },
  {
   "cell_type": "code",
   "execution_count": null,
   "id": "5705b377-718e-4f9a-be95-eb88fbb5b592",
   "metadata": {},
   "outputs": [],
   "source": []
  },
  {
   "cell_type": "code",
   "execution_count": null,
   "id": "81eeda73-fbd6-4a89-ba85-b2709f08dd1c",
   "metadata": {},
   "outputs": [],
   "source": []
  },
  {
   "cell_type": "code",
   "execution_count": null,
   "id": "fafaa257-821f-4427-92dc-33068d6c551e",
   "metadata": {},
   "outputs": [],
   "source": []
  },
  {
   "cell_type": "code",
   "execution_count": null,
   "id": "644849fb-3be4-4e5d-8877-e3f83761af68",
   "metadata": {},
   "outputs": [],
   "source": []
  },
  {
   "cell_type": "code",
   "execution_count": 57,
   "id": "42533921-5165-407a-bf1e-45b298b472ec",
   "metadata": {},
   "outputs": [
    {
     "data": {
      "application/vnd.jupyter.widget-view+json": {
       "model_id": "29c33c037ecf4dd48b27f99bd7a17bb7",
       "version_major": 2,
       "version_minor": 0
      },
      "text/plain": [
       "Retrieving SummaryDoc documents:   0%|          | 0/1 [00:00<?, ?it/s]"
      ]
     },
     "metadata": {},
     "output_type": "display_data"
    }
   ],
   "source": [
    "with MPRester(api_key) as mpr:\n",
    "    docs = mpr.materials.summary.search(\n",
    "        material_ids=[\"mp-149\",]\n",
    "    )\n",
    "\n",
    "    "
   ]
  },
  {
   "cell_type": "code",
   "execution_count": null,
   "id": "d9522140-4842-40b5-ba03-6eee08433716",
   "metadata": {},
   "outputs": [],
   "source": []
  },
  {
   "cell_type": "code",
   "execution_count": null,
   "id": "ed939835-7a50-4b9d-958e-07dcfb2cf880",
   "metadata": {},
   "outputs": [],
   "source": []
  },
  {
   "cell_type": "code",
   "execution_count": 63,
   "id": "47a1e6d9-1a8c-4a14-8059-72f507f00f1d",
   "metadata": {},
   "outputs": [
    {
     "name": "stdout",
     "output_type": "stream",
     "text": [
      "{'builder_meta': {'emmet_version': '0.84.3rc4', 'pymatgen_version': '2024.11.13', 'run_id': '4e80c83d-fc3d-4e2d-8bf5-affe2b0daa98', 'batch_id': None, 'database_version': '2025.06.09', 'build_date': '2024-11-21 22:30:12.439000', 'license': 'BY-C'}, 'nsites': 2, 'elements': ['Si'], 'nelements': 1, 'composition': {'Si': 2.0}, 'composition_reduced': {'Si': 1.0}, 'formula_pretty': 'Si', 'formula_anonymous': 'A', 'chemsys': 'Si', 'volume': 40.32952684741405, 'density': 2.312800253345134, 'density_atomic': 20.164763423707026, 'symmetry': {'crystal_system': 'Cubic', 'symbol': 'Fd-3m', 'number': 227, 'point_group': 'm-3m', 'symprec': 0.1, 'angle_tolerance': 5.0, 'version': '2.5.0'}, 'property_name': 'summary', 'material_id': 'mp-149', 'deprecated': False, 'deprecation_reasons': None, 'last_updated': '2025-06-03 23:06:51.992000', 'origins': [{'name': 'structure', 'task_id': 'mp-1947498', 'last_updated': '2021-03-05 11:47:03.084000'}, {'name': 'energy', 'task_id': 'mp-1947498', 'last_updated': '2025-04-07 20:06:58.292000'}, {'name': 'magnetism', 'task_id': 'mp-1947498', 'last_updated': '2021-03-05 11:47:03.084000'}, {'name': 'dielectric', 'task_id': 'mp-1141021', 'last_updated': '2018-12-19 21:45:41.099000'}, {'name': 'absorption', 'task_id': 'mp-2768327', 'last_updated': '2025-03-13 21:15:46.012000'}], 'warnings': [], 'structure': {'@module': 'pymatgen.core.structure', '@class': 'Structure', 'charge': 0, 'lattice': {'matrix': [[3.333573, 0.0, 1.924639], [1.111191, 3.142924, 1.924639], [0.0, 0.0, 3.849278]], 'pbc': [True, True, True], 'a': 3.8492784033699095, 'b': 3.8492794116013456, 'c': 3.849278, 'alpha': 60.00001213094421, 'beta': 60.00000346645984, 'gamma': 60.0000109754579, 'volume': 40.32952684741405}, 'properties': {}, 'sites': [{'species': [{'element': 'Si', 'occu': 1}], 'abc': [0.875, 0.875, 0.875], 'properties': {'magmom': -0.0}, 'label': 'Si', 'xyz': [3.8891685, 2.7500584999999997, 6.7362365]}, {'species': [{'element': 'Si', 'occu': 1}], 'abc': [0.125, 0.125, 0.125], 'properties': {'magmom': -0.0}, 'label': 'Si', 'xyz': [0.5555955, 0.3928655, 0.9623195]}]}, 'task_ids': ['mp-655585', 'mp-2768327', 'mp-1440634', 'mp-1120259', 'mp-1950734', 'mp-11721', 'mp-1791788', 'mp-2291052', 'mp-149', 'mp-1059585', 'mp-1141021', 'mp-2064214', 'mp-2629357', 'mp-1057366', 'mp-1059589', 'mp-1059603', 'mp-1536661', 'mp-2693536', 'mp-2693792', 'mp-2683378', 'mp-2064724', 'mp-1057380', 'mp-2375705', 'mp-2683297', 'mp-1947498', 'mp-1057373', 'mp-1249516', 'mp-1594776', 'mp-1686587', 'mp-1057384', 'mp-2375896', 'mp-1267607', 'mp-1592727', 'mp-656511', 'mp-2629333', 'mp-2299819', 'mp-1120258', 'mp-2375783', 'mp-655936', 'mp-1059604', 'mp-1248038', 'mp-2250750'], 'uncorrected_energy_per_atom': -8.773764595, 'energy_per_atom': -8.773764595, 'formation_energy_per_atom': 0.0, 'energy_above_hull': 0.0, 'is_stable': True, 'equilibrium_reaction_energy_per_atom': 0.0, 'decomposes_to': None, 'xas': [{'edge': 'K', 'absorbing_element': 'Si', 'spectrum_type': 'EXAFS'}, {'edge': 'K', 'absorbing_element': 'Si', 'spectrum_type': 'XAFS'}, {'edge': 'K', 'absorbing_element': 'Si', 'spectrum_type': 'XANES'}], 'grain_boundaries': None, 'band_gap': 0.6105, 'cbm': 6.227, 'vbm': 5.6165, 'efermi': 5.63019776, 'is_gap_direct': False, 'is_metal': False, 'es_source_calc_id': None, 'bandstructure': {'setyawan_curtarolo': {'task_id': 'mp-1057384', 'band_gap': 0.6105, 'cbm': {'band_index': {'1': [4]}, 'kpoint_index': ['19'], 'kpoint': {'lattice': {'@module': 'pymatgen.core.lattice', '@class': 'Lattice', 'matrix': [[-1.148888338803558, -1.1488883388035571, 1.1488883388035571], [-1.1488883388035571, 1.1488883388035571, -1.1488883388035571], [1.1488883388035571, -1.148888338803558, -1.1488883388035571]], 'pbc': [True, True, True]}, 'fcoords': [0.41304348, 0.0, 0.41304348], 'ccoords': [-3.574929763893427e-16, -0.949081675181681, 2.4426069001795726e-17], 'label': None, '@module': 'pymatgen.electronic_structure.bandstructure', '@class': 'Kpoint'}, 'energy': 6.227, 'projections': {'1': [[0.0524, 0.0524], [0.0454, 0.0454], [0.0, 0.0], [0.0, 0.0], [0.0, 0.0], [0.0, 0.0], [0.0, 0.0], [0.0, 0.0], [0.0, 0.0]]}}, 'vbm': {'band_index': {'1': [1, 2, 3]}, 'kpoint_index': [0, 72, 73], 'kpoint': {'lattice': {'@module': 'pymatgen.core.lattice', '@class': 'Lattice', 'matrix': [[-1.148888338803558, -1.1488883388035571, 1.1488883388035571], [-1.1488883388035571, 1.1488883388035571, -1.1488883388035571], [1.1488883388035571, -1.148888338803558, -1.1488883388035571]], 'pbc': [True, True, True]}, 'fcoords': [0.0, 0.0, 0.0], 'ccoords': [0.0, 0.0, 0.0], 'label': '\\\\Gamma', '@module': 'pymatgen.electronic_structure.bandstructure', '@class': 'Kpoint'}, 'energy': 5.6165, 'projections': {'1': [[0.0, 0.0], [0.0066, 0.0066], [0.19740000000000002, 0.19740000000000002], [0.0098, 0.0098], [0.0, 0.0], [0.0, 0.0], [0.0, 0.0], [0.0, 0.0], [0.0, 0.0]]}}, 'efermi': 5.63019776, 'is_gap_direct': False, 'is_metal': False, 'magnetic_ordering': 'NM', 'nbands': 12.0, 'equivalent_labels': {'setyawan_curtarolo': {'latimer_munro': {'\\\\Gamma': 'Γ', 'K': 'q_{1}', 'L': 'a', 'U': 'q', 'W': 'r', 'X': 'd'}, 'hinuma': {'\\\\Gamma': 'GAMMA', 'K': 'K', 'L': 'L', 'U': 'U', 'W': 'W', 'X': 'X'}}, 'latimer_munro': {'setyawan_curtarolo': {'q': 'U', 'd': 'X', 'a': 'L', 'Γ': '\\\\Gamma', 'q_{1}': 'K', 'r': 'W'}, 'hinuma': {'q': 'U', 'd': 'X', 'a': 'L', 'Γ': 'GAMMA', 'q_{1}': 'K', 'r': 'W'}}, 'hinuma': {'setyawan_curtarolo': {'GAMMA': '\\\\Gamma', 'X': 'X', 'L': 'L', 'W': 'W', 'K': 'K', 'U': 'U', 'W_2': 'W^{*}'}, 'latimer_munro': {'GAMMA': 'Γ', 'X': 'd', 'L': 'a', 'W': 'r', 'K': 'q_{1}', 'U': 'q', 'W_2': 'r^{*}'}}}, 'direct_gap': 2.5563000000000002}, 'hinuma': {'task_id': 'mp-2064214', 'band_gap': 0.6102999999999991, 'cbm': {'band_index': {'1': [4]}, 'kpoint_index': ['19'], 'kpoint': {'lattice': {'@module': 'pymatgen.core.lattice', '@class': 'Lattice', 'matrix': [[-1.1489299352938351, 1.1489299352938351, 1.1489299352938351], [1.1489299352938351, -1.1489299352938351, 1.1489299352938351], [1.1489299352938351, 1.1489299352938351, -1.1489299352938351]], 'pbc': [True, True, True]}, 'fcoords': [0.41304348, 0.0, 0.41304348], 'ccoords': [-1.614666392907644e-17, 0.949116037499881, 1.614666392907644e-17], 'label': None, '@module': 'pymatgen.electronic_structure.bandstructure', '@class': 'Kpoint'}, 'energy': 6.2277000000000005, 'projections': {'1': [[0.0524, 0.0524], [0.0454, 0.0454], [0.0, 0.0], [0.0, 0.0], [0.0, 0.0], [0.0, 0.0], [0.0, 0.0], [0.0, 0.0], [0.0, 0.0]]}}, 'vbm': {'band_index': {'1': [1, 2, 3]}, 'kpoint_index': [0, 59, 60], 'kpoint': {'lattice': {'@module': 'pymatgen.core.lattice', '@class': 'Lattice', 'matrix': [[-1.1489299352938351, 1.1489299352938351, 1.1489299352938351], [1.1489299352938351, -1.1489299352938351, 1.1489299352938351], [1.1489299352938351, 1.1489299352938351, -1.1489299352938351]], 'pbc': [True, True, True]}, 'fcoords': [0.0, 0.0, 0.0], 'ccoords': [0.0, 0.0, 0.0], 'label': 'GAMMA', '@module': 'pymatgen.electronic_structure.bandstructure', '@class': 'Kpoint'}, 'energy': 5.6174, 'projections': {'1': [[0.0, 0.0], [0.0713, 0.0713], [0.0712, 0.0712], [0.0713, 0.0713], [0.0, 0.0], [0.0, 0.0], [0.0, 0.0], [0.0, 0.0], [0.0, 0.0]]}}, 'efermi': 5.7819901, 'is_gap_direct': False, 'is_metal': False, 'magnetic_ordering': 'NM', 'nbands': 96.0, 'equivalent_labels': {'setyawan_curtarolo': {'latimer_munro': {'\\\\Gamma': 'Γ', 'K': 'q', 'L': 'a', 'U': 'q_{1}', 'W': 'r', 'X': 'd'}, 'hinuma': {'\\\\Gamma': 'GAMMA', 'K': 'K', 'L': 'L', 'U': 'U', 'W': 'W', 'X': 'X'}}, 'latimer_munro': {'setyawan_curtarolo': {'a': 'L', 'd': 'X', 'Γ': '\\\\Gamma', 'q': 'K', 'r': 'W', 'q_{1}': 'U'}, 'hinuma': {'a': 'L', 'd': 'X', 'Γ': 'GAMMA', 'q': 'K', 'r': 'W', 'q_{1}': 'U'}}, 'hinuma': {'setyawan_curtarolo': {'GAMMA': '\\\\Gamma', 'X': 'X', 'L': 'L', 'W': 'W', 'K': 'K', 'U': 'U', 'W_2': 'W^{*}'}, 'latimer_munro': {'GAMMA': 'Γ', 'X': 'd', 'L': 'a', 'W': 'r', 'K': 'q', 'U': 'q_{1}', 'W_2': 'r^{*}'}}}, 'direct_gap': 2.5564}, 'latimer_munro': {'task_id': 'mp-2693792', 'band_gap': 0.6102999999999991, 'cbm': {'band_index': {'1': [4]}, 'kpoint_index': ['160'], 'kpoint': {'lattice': {'@module': 'pymatgen.core.lattice', '@class': 'Lattice', 'matrix': [[-1.1489299352938351, 1.1489299352938351, 1.1489299352938351], [1.1489299352938351, -1.1489299352938351, 1.1489299352938351], [1.1489299352938351, 1.1489299352938351, -1.1489299352938351]], 'pbc': [True, True, True]}, 'fcoords': [0.41304348, 0.41304348, 0.0], 'ccoords': [-1.614666392907644e-17, 1.614666392907644e-17, 0.949116037499881], 'label': None, '@module': 'pymatgen.electronic_structure.bandstructure', '@class': 'Kpoint'}, 'energy': 6.2277000000000005, 'projections': {'1': [[0.0524, 0.0524], [0.0, 0.0], [0.0454, 0.0454], [0.0, 0.0], [0.0, 0.0], [0.0, 0.0], [0.0, 0.0], [0.0, 0.0], [0.0, 0.0]]}}, 'vbm': {'band_index': {'1': [1, 2, 3]}, 'kpoint_index': [36, 37, 140, 141, 165], 'kpoint': {'lattice': {'@module': 'pymatgen.core.lattice', '@class': 'Lattice', 'matrix': [[-1.1489299352938351, 1.1489299352938351, 1.1489299352938351], [1.1489299352938351, -1.1489299352938351, 1.1489299352938351], [1.1489299352938351, 1.1489299352938351, -1.1489299352938351]], 'pbc': [True, True, True]}, 'fcoords': [0.0, 0.0, 0.0], 'ccoords': [0.0, 0.0, 0.0], 'label': 'Γ', '@module': 'pymatgen.electronic_structure.bandstructure', '@class': 'Kpoint'}, 'energy': 5.6174, 'projections': {'1': [[0.0, 0.0], [0.0712, 0.0712], [0.0713, 0.0713], [0.0713, 0.0713], [0.0, 0.0], [0.0, 0.0], [0.0, 0.0], [0.0, 0.0], [0.0, 0.0]]}}, 'efermi': 5.779833, 'is_gap_direct': False, 'is_metal': False, 'magnetic_ordering': 'NM', 'nbands': 96.0, 'equivalent_labels': {'setyawan_curtarolo': {'latimer_munro': {'\\\\Gamma': 'Γ', 'K': 'q', 'L': 'a', 'U': 'q_{1}', 'W': 'r', 'X': 'd'}, 'hinuma': {'\\\\Gamma': 'GAMMA', 'K': 'K', 'L': 'L', 'U': 'U', 'W': 'W', 'X': 'X'}}, 'latimer_munro': {'setyawan_curtarolo': {'a': 'L', 'd': 'X', 'Γ': '\\\\Gamma', 'q': 'K', 'r': 'W', 'q_{1}': 'U'}, 'hinuma': {'a': 'L', 'd': 'X', 'Γ': 'GAMMA', 'q': 'K', 'r': 'W', 'q_{1}': 'U'}}, 'hinuma': {'setyawan_curtarolo': {'GAMMA': '\\\\Gamma', 'X': 'X', 'L': 'L', 'W': 'W', 'K': 'K', 'U': 'U', 'W_2': 'W^{*}'}, 'latimer_munro': {'GAMMA': 'Γ', 'X': 'd', 'L': 'a', 'W': 'r', 'K': 'q', 'U': 'q_{1}', 'W_2': 'r^{*}'}}}, 'direct_gap': 2.5564}}, 'dos': {'total': {'1': {'task_id': 'mp-2250750', 'band_gap': 0.6517000000000001, 'cbm': 6.2537, 'vbm': 5.602, 'efermi': 5.60204155, 'spin_polarization': None}}, 'elemental': {'Si': {'total': {'1': {'task_id': 'mp-2250750', 'band_gap': 0.6517000000000001, 'cbm': 6.2537, 'vbm': 5.602, 'efermi': 5.60204155, 'spin_polarization': None}}, 's': {'1': {'task_id': 'mp-2250750', 'band_gap': 0.6665000000000001, 'cbm': 6.2537, 'vbm': 5.5872, 'efermi': 5.60204155, 'spin_polarization': None}}, 'p': {'1': {'task_id': 'mp-2250750', 'band_gap': 0.6517000000000001, 'cbm': 6.2537, 'vbm': 5.602, 'efermi': 5.60204155, 'spin_polarization': None}}, 'd': {'1': {'task_id': 'mp-2250750', 'band_gap': 29.622700000000002, 'cbm': 22.0871, 'vbm': -7.5356000000000005, 'efermi': 5.60204155, 'spin_polarization': None}}}}, 'orbital': {'s': {'1': {'task_id': 'mp-2250750', 'band_gap': 0.6665000000000001, 'cbm': 6.2537, 'vbm': 5.5872, 'efermi': 5.60204155, 'spin_polarization': None}}, 'p': {'1': {'task_id': 'mp-2250750', 'band_gap': 0.6517000000000001, 'cbm': 6.2537, 'vbm': 5.602, 'efermi': 5.60204155, 'spin_polarization': None}}, 'd': {'1': {'task_id': 'mp-2250750', 'band_gap': 29.622700000000002, 'cbm': 22.0871, 'vbm': -7.5356000000000005, 'efermi': 5.60204155, 'spin_polarization': None}}}, 'magnetic_ordering': 'NM'}, 'dos_energy_up': None, 'dos_energy_down': None, 'is_magnetic': False, 'ordering': 'NM', 'total_magnetization': 0.0, 'total_magnetization_normalized_vol': 0.0, 'total_magnetization_normalized_formula_units': 0.0, 'num_magnetic_sites': 0, 'num_unique_magnetic_sites': 0, 'types_of_magnetic_species': [], 'bulk_modulus': {'voigt': 88.916, 'reuss': 88.916, 'vrh': 88.916}, 'shear_modulus': {'voigt': 63.833, 'reuss': 61.057, 'vrh': 62.445}, 'universal_anisotropy': 0.227, 'homogeneous_poisson': 0.215, 'e_total': 13.003383160000025, 'e_ionic': 0.0, 'e_electronic': 13.003383160000025, 'n': 3.606020404823025, 'e_ij_max': None, 'weighted_surface_energy_EV_PER_ANG2': 0.082848167976813, 'weighted_surface_energy': 1.327373927713924, 'weighted_work_function': 4.727598156108368, 'surface_anisotropy': 0.046483676566591005, 'shape_factor': 5.080957776573802, 'has_reconstructed': True, 'possible_species': ['Si0+'], 'has_props': {'materials': True, 'thermo': True, 'xas': True, 'grain_boundaries': False, 'chemenv': True, 'electronic_structure': True, 'absorption': True, 'bandstructure': True, 'dos': True, 'magnetism': True, 'elasticity': True, 'dielectric': True, 'piezoelectric': False, 'surface_properties': True, 'oxi_states': True, 'provenance': True, 'charge_density': True, 'eos': True, 'phonon': True, 'insertion_electrodes': False, 'substrates': True}, 'theoretical': False, 'database_IDs': None, 'fields_not_requested': ['database_IDs']}\n"
     ]
    }
   ],
   "source": [
    "print(docs[0].dict())  # Prints all data fields for this material\n",
    "\n"
   ]
  },
  {
   "cell_type": "code",
   "execution_count": null,
   "id": "633e901a-381b-4acf-a4d5-d90a74e78629",
   "metadata": {},
   "outputs": [],
   "source": []
  },
  {
   "cell_type": "code",
   "execution_count": 64,
   "id": "50f617b6-eb83-454e-9a3c-49447dc74f72",
   "metadata": {},
   "outputs": [
    {
     "data": {
      "application/vnd.jupyter.widget-view+json": {
       "model_id": "7d990e6da5d74960845a24e9d9312ef8",
       "version_major": 2,
       "version_minor": 0
      },
      "text/plain": [
       "Retrieving MaterialsDoc documents:   0%|          | 0/1 [00:00<?, ?it/s]"
      ]
     },
     "metadata": {},
     "output_type": "display_data"
    },
    {
     "name": "stdout",
     "output_type": "stream",
     "text": [
      "['mp-655585', 'mp-656511', 'mp-655936', 'mp-11721', 'mp-149', 'mp-1057373', 'mp-1057366', 'mp-1057380', 'mp-1059585', 'mp-1059589', 'mp-1059603', 'mp-1120258', 'mp-1120259', 'mp-1141021', 'mp-1248038', 'mp-1249516', 'mp-1267607', 'mp-1440634', 'mp-1686587', 'mp-1791788', 'mp-1594776', 'mp-1592727', 'mp-1947498', 'mp-1950734', 'mp-1059604', 'mp-1057384', 'mp-1536661', 'mp-2064724', 'mp-2064214', 'mp-2250750', 'mp-2299819', 'mp-2291052', 'mp-2693536', 'mp-2693792', 'mp-2683378', 'mp-2768327', 'mp-2375705', 'mp-2375783', 'mp-2375896', 'mp-2629333', 'mp-2629357', 'mp-2683297']\n"
     ]
    }
   ],
   "source": [
    "task_ids = mpr.get_task_ids_associated_with_material_id(\"mp-149\")\n",
    "print(task_ids)"
   ]
  },
  {
   "cell_type": "code",
   "execution_count": null,
   "id": "7264046f-961d-4ec5-b07f-e7846b40a49d",
   "metadata": {},
   "outputs": [],
   "source": []
  },
  {
   "cell_type": "code",
   "execution_count": null,
   "id": "33ac735b-60cf-4bfa-88f5-6de0079a138b",
   "metadata": {},
   "outputs": [],
   "source": []
  },
  {
   "cell_type": "code",
   "execution_count": 83,
   "id": "f84b5e20-10f0-47e3-aaf8-ee05ea1b090a",
   "metadata": {},
   "outputs": [
    {
     "name": "stderr",
     "output_type": "stream",
     "text": [
      "/tmp/ipykernel_4716/28797834.py:3: DeprecationWarning: Accessing tasks data through MPRester.tasks is deprecated. Please use MPRester.materials.tasks instead.\n",
      "  results = mpr.tasks.search(task_ids='mp-1095269')\n"
     ]
    },
    {
     "data": {
      "application/vnd.jupyter.widget-view+json": {
       "model_id": "94a462085803457bb1cc44b5da465f0f",
       "version_major": 2,
       "version_minor": 0
      },
      "text/plain": [
       "Retrieving TaskDoc documents:   0%|          | 0/1 [00:00<?, ?it/s]"
      ]
     },
     "metadata": {},
     "output_type": "display_data"
    },
    {
     "name": "stdout",
     "output_type": "stream",
     "text": [
      "Task ID: mp-1095269\n",
      "Calculation Type: Structure Optimization\n",
      "---\n"
     ]
    }
   ],
   "source": [
    "with MPRester(api_key) as mpr:\n",
    "    # Search for tasks by their task_id field\n",
    "    results = mpr.tasks.search(task_ids='mp-1095269')\n",
    "\n",
    "    for task in results:\n",
    "        print(f\"Task ID: {task.task_id}\")\n",
    "        print(f\"Calculation Type: {task.task_type }\")\n",
    "        # print(f\"POTCAR Symbols: {task.potcar_symbols}\")\n",
    "        # print(f\"INCAR Parameters: {task.input.incar_parameters}\")\n",
    "        print(\"---\")\n",
    "\n",
    "        "
   ]
  },
  {
   "cell_type": "code",
   "execution_count": null,
   "id": "cf13059c-3967-42b5-a0f5-f25a7cb6d1a0",
   "metadata": {},
   "outputs": [],
   "source": []
  },
  {
   "cell_type": "code",
   "execution_count": 84,
   "id": "fe563c16-c805-44c1-af7f-c61f2a966541",
   "metadata": {},
   "outputs": [
    {
     "data": {
      "text/plain": [
       "[Calculation(dir_name='/clusterfs/mp/mp_prod/block_2018-04-27-09-04-20-960461/launcher_2018-04-27-13-43-35-068128', vasp_version='5.4.4', has_vasp_completed=True, input=CalculationInput(incar={'ISTART': 1, 'PREC': 'accurate', 'ALGO': 'Fast', 'ISPIN': 2, 'ICHARG': 1, 'NELM': 100, 'IBRION': 2, 'EDIFF': 0.0006000000000000001, 'NSW': 99, 'ISIF': 3, 'ENCUT': 520.0, 'MAGMOM': [0.6000000000000001, 0.6000000000000001, 0.6000000000000001, 0.6000000000000001, 0.6000000000000001, 0.6000000000000001, 0.6000000000000001, 0.6000000000000001, 0.6000000000000001, 0.6000000000000001, 0.6000000000000001, 0.6000000000000001], 'LREAL': 'Auto', 'ISMEAR': -5, 'SIGMA': 0.05, 'LWAVE': False, 'LORBIT': 11, 'KPOINT_BSE': [-1, 0, 0, 0]}, kpoints=Kpoints from vasprun.xml\n",
       " 0\n",
       " Gamma\n",
       " 7 4 2\n",
       " , nkpoints=None, potcar=['Si'], potcar_spec=[PotcarSpec(titel='PAW_PBE Si 05Jan2001', hash='b2b0ea6feb62e7cde209616683b8f7f5', summary_stats=None)], potcar_type=['PAW_PBE'], parameters={'SYSTEM': 'unknown system', 'LCOMPAT': False, 'PREC': 'accura', 'ENMAX': 520.0, 'ENAUG': 322.069, 'EDIFF': 0.0006000000000000001, 'IALGO': 68, 'IWAVPR': 11, 'NBANDS': 48, 'NELECT': 48.0, 'TURBO': 0, 'IRESTART': 0, 'NREBOOT': 0, 'NMIN': 0, 'EREF': 0.0, 'ISMEAR': -5, 'SIGMA': 0.05, 'KSPACING': 0.5, 'KGAMMA': True, 'KBLOWUP': True, 'LREAL': True, 'ROPT': [-0.00025], 'LMAXPAW': -100, 'LMAXMIX': 2, 'NLSPLINE': False, 'ISTART': 0, 'ICHARG': 1, 'INIWAV': 1, 'ISPIN': 2, 'LNONCOLLINEAR': False, 'MAGMOM': [0.6000000000000001, 0.6000000000000001, 0.6000000000000001, 0.6000000000000001, 0.6000000000000001, 0.6000000000000001, 0.6000000000000001, 0.6000000000000001, 0.6000000000000001, 0.6000000000000001, 0.6000000000000001, 0.6000000000000001], 'NUPDOWN': -1.0, 'LSORBIT': False, 'SAXIS': [0.0, 0.0, 1.0], 'LSPIRAL': False, 'QSPIRAL': [0.0, 0.0, 0.0], 'LZEROZ': False, 'LASPH': False, 'LMETAGGA': False, 'NELM': 100, 'NELMDL': 0, 'NELMIN': 2, 'ENINI': 520.0, 'LDIAG': True, 'LSUBROT': False, 'WEIMIN': 0.001, 'EBREAK': 3.1299999999999997e-06, 'DEPER': 0.30000000000000004, 'NRMM': 4, 'TIME': 0.4, 'AMIX': 0.4, 'BMIX': 1.0, 'AMIN': 0.1, 'AMIX_MAG': 1.6, 'BMIX_MAG': 1.0, 'IMIX': 4, 'MIXFIRST': False, 'MAXMIX': -45, 'WC': 100.0, 'INIMIX': 1, 'MIXPRE': 1, 'MREMOVE': 5, 'LDIPOL': False, 'LMONO': False, 'IDIPOL': 0, 'EPSILON': 1.0, 'DIPOL': [-100.0, -100.0, -100.0], 'EFIELD': 0.0, 'NGX': 30, 'NGY': 42, 'NGZ': 96, 'NGXF': 60, 'NGYF': 84, 'NGZF': 192, 'ADDGRID': False, 'NSW': 99, 'IBRION': 2, 'MDALGO': 0, 'ISIF': 3, 'PSTRESS': 0.0, 'EDIFFG': 0.006, 'NFREE': 1, 'POTIM': 0.5, 'SMASS': -3.0, 'SCALEE': 1.0, 'TEBEG': 0.0001, 'TEEND': 0.0001, 'NBLOCK': 1, 'KBLOCK': 99, 'NPACO': 256, 'APACO': 16.0, 'ISYM': 2, 'SYMPREC': 1e-05, 'LORBIT': 11, 'RWIGS': [-1.0], 'NEDOS': 301, 'EMIN': 10.0, 'EMAX': -10.0, 'EFERMI': 0.0, 'NWRITE': 2, 'LWAVE': False, 'LDOWNSAMPLE': False, 'LCHARG': True, 'LPARD': False, 'LVTOT': False, 'LVHAR': False, 'LELF': False, 'LOPTICS': False, 'STM': [0.0, 0.0, 0.0, 0.0, 0.0, 0.0, 0.0], 'NPAR': 24, 'NSIM': 4, 'NBLK': -1, 'LPLANE': True, 'LSCALAPACK': True, 'LSCAAWARE': False, 'LSCALU': False, 'LASYNC': False, 'LORBITALREAL': False, 'IDIOT': 3, 'ISPECIAL': 0, 'LMUSIC': False, 'POMASS': [28.085], 'DARWINR': [0.0], 'DARWINV': [1.0], 'LCORR': True, 'GGA_COMPAT': True, 'LBERRY': False, 'ICORELEVEL': 0, 'LDAU': False, 'I_CONSTRAINED_M': 0, 'GGA': '--', 'VOSKOWN': 0, 'LHFCALC': False, 'PRECFOCK': None, 'LSYMGRAD': False, 'LHFONE': False, 'LRHFCALC': False, 'LTHOMAS': False, 'LMODELHF': False, 'LFOCKACE': False, 'ENCUT4O': -1.0, 'EXXOEP': 0, 'FOURORBIT': 0, 'AEXX': 0.0, 'HFALPHA': 0.0, 'MCALPHA': 0.0, 'ALDAX': 1.0, 'AGGAX': 1.0, 'ALDAC': 1.0, 'AGGAC': 1.0, 'NKREDX': 1, 'NKREDY': 1, 'NKREDZ': 1, 'SHIFTRED': False, 'ODDONLY': False, 'EVENONLY': False, 'LMAXFOCK': 0, 'NMAXFOCKAE': 0, 'LFOCKAEDFT': False, 'HFSCREEN': 0.0, 'HFSCREENC': 0.0, 'NBANDSGWLOW': 0, 'LUSE_VDW': False, 'Zab_VDW': -0.8491000000000001, 'PARAM1': 0.12340000000000001, 'PARAM2': 1.0, 'PARAM3': 0.0, 'MODEL_GW': 0, 'MODEL_EPS0': 13.18562615, 'MODEL_ALPHA': 1.0, 'LEPSILON': False, 'LRPA': False, 'LNABLA': False, 'LVEL': False, 'KINTER': 0, 'CSHIFT': 0.1, 'OMEGAMAX': -1.0, 'DEG_THRESHOLD': 0.002, 'RTIME': -0.1, 'WPLASMAI': 0.0, 'DFIELD': [0.0, 0.0, 0.0], 'WPLASMA': [0.0, 0.0, 0.0, 0.0, 0.0, 0.0, 0.0, 0.0, 0.0], 'NUCIND': False, 'MAGPOS': [0.0, 0.0, 0.0], 'LNICSALL': True, 'ORBITALMAG': False, 'LMAGBLOCH': False, 'LCHIMAG': False, 'LGAUGE': True, 'MAGATOM': 0, 'MAGDIPOL': [0.0, 0.0, 0.0], 'AVECCONST': [0.0, 0.0, 0.0], 'LADDER': False, 'LRPAFORCE': False, 'LFXC': False, 'LHARTREE': True, 'IBSE': 0, 'KPOINT': [-1, 0, 0, 0], 'LTCTE': False, 'LTETE': False, 'LTRIPLET': False, 'LFXCEPS': False, 'LFXHEG': False, 'NATURALO': 2, 'L2ORDER': False, 'LMP2LT': False, 'LUSEW': False, 'ENCUTGW': -2.0, 'ENCUTGWSOFT': -2.0, 'ENCUTLF': -1.0, 'LMAXMP2': -1, 'SCISSOR': 0.0, 'NOMEGA': 0, 'NOMEGAR': 0, 'NBANDSGW': -1, 'NBANDSO': -1, 'NBANDSV': -1, 'NELMHF': 1, 'DIM': 3, 'ANTIRES': 0, 'OMEGAMIN': -30.0, 'OMEGATL': -200.0, 'OMEGAGRID': 140, 'SELFENERGY': False, 'LSPECTRAL': False, 'LSPECTRALGW': False, 'LSINGLES': False, 'LFERMIGW': False, 'ODDONLYGW': False, 'EVENONLYGW': False, 'NKREDLFX': 1, 'NKREDLFY': 1, 'NKREDLFZ': 1, 'MAXMEM': 2800, 'TELESCOPE': 0, 'TAUPAR': 1, 'OMEGAPAR': -1, 'LAMBDA': 1.0, 'OFIELD_KAPPA': 0.0, 'OFIELD_K': [0.0, 0.0, 0.0], 'OFIELD_Q6_NEAR': 0.0, 'OFIELD_Q6_FAR': 0.0, 'OFIELD_A': 0.0}, lattice_rec=Lattice\n",
       "     abc : 1.7319479898961836 1.168628349895977 0.49367019565125303\n",
       "  angles : 90.0 90.0 70.28303719185276\n",
       "  volume : 0.9406083958239928\n",
       "       A : np.float64(1.630405098873338) np.float64(0.5843141734317691) np.float64(0.0)\n",
       "       B : np.float64(0.0) np.float64(1.168628349895977) np.float64(0.0)\n",
       "       C : np.float64(0.0) np.float64(0.0) np.float64(0.49367019565125303)\n",
       "     pbc : True True True, structure=Structure Summary\n",
       " Lattice\n",
       "     abc : 3.85375715 5.7114025601763485 12.72749573\n",
       "  angles : 90.0 90.0 109.71696280814724\n",
       "  volume : 263.71252323885665\n",
       "       A : np.float64(3.85375715) np.float64(0.0) np.float64(0.0)\n",
       "       B : np.float64(-1.92687857) np.float64(5.37654705) np.float64(0.0)\n",
       "       C : np.float64(0.0) np.float64(0.0) np.float64(12.72749573)\n",
       "     pbc : True True True\n",
       " PeriodicSite: Si (2.17e-08, 2.61, 12.03) [0.2427, 0.4855, 0.9453]\n",
       " PeriodicSite: Si (1.927, 2.766, 0.6962) [0.7573, 0.5145, 0.0547]\n",
       " PeriodicSite: Si (2.17e-08, 2.61, 7.06) [0.2427, 0.4855, 0.5547]\n",
       " PeriodicSite: Si (1.927, 2.766, 5.667) [0.7573, 0.5145, 0.4453]\n",
       " PeriodicSite: Si (1.927, 0.766, 1.999) [0.5712, 0.1425, 0.157]\n",
       " PeriodicSite: Si (4.288e-09, 4.611, 10.73) [0.4288, 0.8575, 0.843]\n",
       " PeriodicSite: Si (1.927, 0.766, 4.365) [0.5712, 0.1425, 0.343]\n",
       " PeriodicSite: Si (4.288e-09, 4.611, 8.362) [0.4288, 0.8575, 0.657]\n",
       " PeriodicSite: Si (2.866e-10, 0.3082, 11.58) [0.02866, 0.05732, 0.9095]\n",
       " PeriodicSite: Si (1.927, 5.068, 1.152) [0.9713, 0.9427, 0.09054]\n",
       " PeriodicSite: Si (2.866e-10, 0.3082, 7.516) [0.02866, 0.05732, 0.5905]\n",
       " PeriodicSite: Si (1.927, 5.068, 5.211) [0.9713, 0.9427, 0.4095], is_hubbard=False, hubbards=None), output=CalculationOutput(energy=-64.02055576, energy_per_atom=-5.335046313333333, structure=Structure Summary\n",
       " Lattice\n",
       "     abc : 3.85375715 5.7114025601763485 12.72749573\n",
       "  angles : 90.0 90.0 109.71696280814724\n",
       "  volume : 263.71252323885665\n",
       "       A : np.float64(3.85375715) np.float64(0.0) np.float64(0.0)\n",
       "       B : np.float64(-1.92687857) np.float64(5.37654705) np.float64(0.0)\n",
       "       C : np.float64(0.0) np.float64(0.0) np.float64(12.72749573)\n",
       "     pbc : True True True\n",
       " PeriodicSite: Si (2.17e-08, 2.61, 12.03) [0.2427, 0.4855, 0.9453]\n",
       " PeriodicSite: Si (1.927, 2.766, 0.6962) [0.7573, 0.5145, 0.0547]\n",
       " PeriodicSite: Si (2.17e-08, 2.61, 7.06) [0.2427, 0.4855, 0.5547]\n",
       " PeriodicSite: Si (1.927, 2.766, 5.667) [0.7573, 0.5145, 0.4453]\n",
       " PeriodicSite: Si (1.927, 0.766, 1.999) [0.5712, 0.1425, 0.157]\n",
       " PeriodicSite: Si (4.288e-09, 4.611, 10.73) [0.4288, 0.8575, 0.843]\n",
       " PeriodicSite: Si (1.927, 0.766, 4.365) [0.5712, 0.1425, 0.343]\n",
       " PeriodicSite: Si (4.288e-09, 4.611, 8.362) [0.4288, 0.8575, 0.657]\n",
       " PeriodicSite: Si (2.866e-10, 0.3082, 11.58) [0.02866, 0.05732, 0.9095]\n",
       " PeriodicSite: Si (1.927, 5.068, 1.152) [0.9713, 0.9427, 0.09054]\n",
       " PeriodicSite: Si (2.866e-10, 0.3082, 7.516) [0.02866, 0.05732, 0.5905]\n",
       " PeriodicSite: Si (1.927, 5.068, 5.211) [0.9713, 0.9427, 0.4095], efermi=5.04825147, is_metal=False, bandgap=0.5381, cbm=5.5161, vbm=4.978, is_gap_direct=False, direct_gap=0.590499999999999, transition=None, mag_density=None, optical_absorption_coeff=None, epsilon_static=None, epsilon_static_wolfe=None, epsilon_ionic=None, frequency_dependent_dielectric=None, ionic_steps=[IonicStep(e_fr_energy=-64.02055576, e_wo_entrp=-64.02055576, e_0_energy=0.0, forces=[(-0.0, 0.019900730000000002, 0.00973315), (-0.0, -0.019900730000000002, -0.00973315), (0.0, 0.019900730000000002, -0.00973315), (-0.0, -0.019900730000000002, 0.00973315), (0.0, -0.0060571999999999996, 0.02896182), (0.0, 0.0060571999999999996, -0.02896182), (-0.0, -0.0060571999999999996, -0.02896182), (-0.0, 0.0060571999999999996, 0.02896182), (-0.0, -0.02104739, 0.00087767), (-0.0, 0.02104739, -0.00087767), (0.0, -0.02104739, -0.00087767), (0.0, 0.02104739, 0.00087767)], stress=((0.08369023, 0.0, 0.0), (0.0, 0.30542382, 0.0), (0.0, 0.0, 1.36735406)), electronic_steps=[ElectronicStep(alphaZ=18.38169547, ewald=-1237.22681853, hartreedc=-150.41326747, XCdc=-111.76529129, pawpsdc=395.5025956, pawaedc=-184.35522436, eentropy=0.0, bandstr=112.54499843, atom=1236.7962164, e_fr_energy=79.46490425, e_wo_entrp=79.46490425, e_0_energy=79.46490425), ElectronicStep(alphaZ=None, ewald=None, hartreedc=None, XCdc=None, pawpsdc=None, pawaedc=None, eentropy=None, bandstr=None, atom=None, e_fr_energy=-58.65863196, e_wo_entrp=-58.65863196, e_0_energy=-58.65863196), ElectronicStep(alphaZ=None, ewald=None, hartreedc=None, XCdc=None, pawpsdc=None, pawaedc=None, eentropy=None, bandstr=None, atom=None, e_fr_energy=-64.16729864, e_wo_entrp=-64.16729864, e_0_energy=-64.16729864), ElectronicStep(alphaZ=None, ewald=None, hartreedc=None, XCdc=None, pawpsdc=None, pawaedc=None, eentropy=None, bandstr=None, atom=None, e_fr_energy=-64.24847741, e_wo_entrp=-64.24847741, e_0_energy=-64.24847741), ElectronicStep(alphaZ=None, ewald=None, hartreedc=None, XCdc=None, pawpsdc=None, pawaedc=None, eentropy=None, bandstr=None, atom=None, e_fr_energy=-64.2506047, e_wo_entrp=-64.2506047, e_0_energy=-64.2506047), ElectronicStep(alphaZ=None, ewald=None, hartreedc=None, XCdc=None, pawpsdc=None, pawaedc=None, eentropy=None, bandstr=None, atom=None, e_fr_energy=-63.36119306, e_wo_entrp=-63.36119306, e_0_energy=-63.36119306), ElectronicStep(alphaZ=None, ewald=None, hartreedc=None, XCdc=None, pawpsdc=None, pawaedc=None, eentropy=None, bandstr=None, atom=None, e_fr_energy=-63.5642886, e_wo_entrp=-63.5642886, e_0_energy=-63.5642886), ElectronicStep(alphaZ=None, ewald=None, hartreedc=None, XCdc=None, pawpsdc=None, pawaedc=None, eentropy=None, bandstr=None, atom=None, e_fr_energy=-63.97056961, e_wo_entrp=-63.97056961, e_0_energy=-63.97056961), ElectronicStep(alphaZ=None, ewald=None, hartreedc=None, XCdc=None, pawpsdc=None, pawaedc=None, eentropy=None, bandstr=None, atom=None, e_fr_energy=-64.00486137, e_wo_entrp=-64.00486137, e_0_energy=-64.00486137), ElectronicStep(alphaZ=None, ewald=None, hartreedc=None, XCdc=None, pawpsdc=None, pawaedc=None, eentropy=None, bandstr=None, atom=None, e_fr_energy=-64.01795009, e_wo_entrp=-64.01795009, e_0_energy=-64.01795009), ElectronicStep(alphaZ=None, ewald=None, hartreedc=None, XCdc=None, pawpsdc=None, pawaedc=None, eentropy=None, bandstr=None, atom=None, e_fr_energy=-64.02019908, e_wo_entrp=-64.02019908, e_0_energy=-64.02019908), ElectronicStep(alphaZ=18.38169547, ewald=-1237.22681853, hartreedc=-180.09092456, XCdc=-108.5340587, pawpsdc=440.25516246, pawaedc=-230.32422253, eentropy=0.0, bandstr=-3.27760577, atom=1236.7962164, e_fr_energy=-64.02055576, e_wo_entrp=-64.02055576, e_0_energy=-64.02055576)], num_electronic_steps=12, structure=Structure Summary\n",
       " Lattice\n",
       "     abc : 3.85375715 5.7114025601763485 12.72749573\n",
       "  angles : 90.0 90.0 109.71696280814724\n",
       "  volume : 263.71252323885665\n",
       "       A : np.float64(3.85375715) np.float64(0.0) np.float64(0.0)\n",
       "       B : np.float64(-1.92687857) np.float64(5.37654705) np.float64(0.0)\n",
       "       C : np.float64(0.0) np.float64(0.0) np.float64(12.72749573)\n",
       "     pbc : True True True\n",
       " PeriodicSite: Si (2.17e-08, 2.61, 12.03) [0.2427, 0.4855, 0.9453]\n",
       " PeriodicSite: Si (1.927, 2.766, 0.6962) [0.7573, 0.5145, 0.0547]\n",
       " PeriodicSite: Si (2.17e-08, 2.61, 7.06) [0.2427, 0.4855, 0.5547]\n",
       " PeriodicSite: Si (1.927, 2.766, 5.667) [0.7573, 0.5145, 0.4453]\n",
       " PeriodicSite: Si (1.927, 0.766, 1.999) [0.5712, 0.1425, 0.157]\n",
       " PeriodicSite: Si (4.288e-09, 4.611, 10.73) [0.4288, 0.8575, 0.843]\n",
       " PeriodicSite: Si (1.927, 0.766, 4.365) [0.5712, 0.1425, 0.343]\n",
       " PeriodicSite: Si (4.288e-09, 4.611, 8.362) [0.4288, 0.8575, 0.657]\n",
       " PeriodicSite: Si (2.866e-10, 0.3082, 11.58) [0.02866, 0.05732, 0.9095]\n",
       " PeriodicSite: Si (1.927, 5.068, 1.152) [0.9713, 0.9427, 0.09054]\n",
       " PeriodicSite: Si (2.866e-10, 0.3082, 7.516) [0.02866, 0.05732, 0.5905]\n",
       " PeriodicSite: Si (1.927, 5.068, 5.211) [0.9713, 0.9427, 0.4095])], num_electronic_steps=None, locpot=None, outcar={'@module': 'pymatgen.io.vasp.outputs', '@class': 'Outcar', 'efermi': 5.0483, 'magnetization': [{'s': 0.0, 'p': -0.0, 'd': 0.0, 'tot': -0.0}, {'s': 0.0, 'p': -0.0, 'd': 0.0, 'tot': -0.0}, {'s': 0.0, 'p': -0.0, 'd': 0.0, 'tot': -0.0}, {'s': 0.0, 'p': -0.0, 'd': 0.0, 'tot': -0.0}, {'s': 0.0, 'p': -0.0, 'd': 0.0, 'tot': -0.0}, {'s': 0.0, 'p': -0.0, 'd': 0.0, 'tot': -0.0}, {'s': 0.0, 'p': -0.0, 'd': 0.0, 'tot': -0.0}, {'s': 0.0, 'p': -0.0, 'd': 0.0, 'tot': -0.0}, {'s': 0.0, 'p': -0.0, 'd': 0.0, 'tot': -0.0}, {'s': 0.0, 'p': -0.0, 'd': 0.0, 'tot': -0.0}, {'s': 0.0, 'p': -0.0, 'd': 0.0, 'tot': -0.0}, {'s': 0.0, 'p': -0.0, 'd': 0.0, 'tot': -0.0}], 'charge': [{'s': 0.756, 'p': 0.914, 'd': 0.0, 'tot': 1.67}, {'s': 0.756, 'p': 0.914, 'd': 0.0, 'tot': 1.67}, {'s': 0.756, 'p': 0.914, 'd': 0.0, 'tot': 1.67}, {'s': 0.756, 'p': 0.914, 'd': 0.0, 'tot': 1.67}, {'s': 0.751, 'p': 0.921, 'd': 0.0, 'tot': 1.673}, {'s': 0.751, 'p': 0.921, 'd': 0.0, 'tot': 1.673}, {'s': 0.751, 'p': 0.921, 'd': 0.0, 'tot': 1.673}, {'s': 0.751, 'p': 0.921, 'd': 0.0, 'tot': 1.673}, {'s': 0.756, 'p': 0.922, 'd': 0.0, 'tot': 1.679}, {'s': 0.756, 'p': 0.922, 'd': 0.0, 'tot': 1.679}, {'s': 0.756, 'p': 0.922, 'd': 0.0, 'tot': 1.679}, {'s': 0.756, 'p': 0.922, 'd': 0.0, 'tot': 1.679}], 'total_magnetization': 0.015853799999999998, 'nelect': 47.9999999, 'is_stopped': False, 'drift': [[0.0, 0.0, -0.0]], 'ngf': [60, 84, 192], 'sampling_radii': [0.9892000000000001], 'electrostatic_potential': [-84.192, -84.192, -84.192, -84.192, -84.2922, -84.2922, -84.2922, -84.2922, -84.1715, -84.1715, -84.1715, -84.1715]}, force_constants=None, normalmode_frequencies=None, normalmode_eigenvals=None, normalmode_eigenvecs=None, elph_displaced_structures=None, dos_properties=None, run_stats=None), completed_at='2018-04-27 11:51:39.436360', task_name=None, output_file_paths={'chgcar': 'CHGCAR.relax2.gz', 'wavecar': 'WAVECAR.relax2.gz', 'procar': 'PROCAR.relax2.gz'}, bader=None, ddec6=None, run_type=<RunType.GGA: 'GGA'>, task_type=None, calc_type=None),\n",
       " Calculation(dir_name='/clusterfs/mp/mp_prod/block_2018-04-27-09-04-20-960461/launcher_2018-04-27-13-43-35-068128', vasp_version='5.4.4', has_vasp_completed=True, input=CalculationInput(incar={'PREC': 'accurate', 'ALGO': 'Fast', 'ISPIN': 2, 'ICHARG': 1, 'NELM': 100, 'IBRION': 2, 'EDIFF': 0.0006000000000000001, 'NSW': 99, 'ISIF': 3, 'ENCUT': 520.0, 'MAGMOM': [0.6000000000000001, 0.6000000000000001, 0.6000000000000001, 0.6000000000000001, 0.6000000000000001, 0.6000000000000001, 0.6000000000000001, 0.6000000000000001, 0.6000000000000001, 0.6000000000000001, 0.6000000000000001, 0.6000000000000001], 'LREAL': 'Auto', 'ISMEAR': -5, 'SIGMA': 0.05, 'LWAVE': False, 'LORBIT': 11, 'KPOINT_BSE': [-1, 0, 0, 0]}, kpoints=Kpoints from vasprun.xml\n",
       " 0\n",
       " Gamma\n",
       " 7 4 2\n",
       " , nkpoints=None, potcar=['Si'], potcar_spec=[PotcarSpec(titel='PAW_PBE Si 05Jan2001', hash='b2b0ea6feb62e7cde209616683b8f7f5', summary_stats=None)], potcar_type=['PAW_PBE'], parameters={'SYSTEM': 'unknown system', 'LCOMPAT': False, 'PREC': 'accura', 'ENMAX': 520.0, 'ENAUG': 322.069, 'EDIFF': 0.0006000000000000001, 'IALGO': 68, 'IWAVPR': 11, 'NBANDS': 48, 'NELECT': 48.0, 'TURBO': 0, 'IRESTART': 0, 'NREBOOT': 0, 'NMIN': 0, 'EREF': 0.0, 'ISMEAR': -5, 'SIGMA': 0.05, 'KSPACING': 0.5, 'KGAMMA': True, 'KBLOWUP': True, 'LREAL': True, 'ROPT': [-0.00025], 'LMAXPAW': -100, 'LMAXMIX': 2, 'NLSPLINE': False, 'ISTART': 0, 'ICHARG': 1, 'INIWAV': 1, 'ISPIN': 2, 'LNONCOLLINEAR': False, 'MAGMOM': [0.6000000000000001, 0.6000000000000001, 0.6000000000000001, 0.6000000000000001, 0.6000000000000001, 0.6000000000000001, 0.6000000000000001, 0.6000000000000001, 0.6000000000000001, 0.6000000000000001, 0.6000000000000001, 0.6000000000000001], 'NUPDOWN': -1.0, 'LSORBIT': False, 'SAXIS': [0.0, 0.0, 1.0], 'LSPIRAL': False, 'QSPIRAL': [0.0, 0.0, 0.0], 'LZEROZ': False, 'LASPH': False, 'LMETAGGA': False, 'NELM': 100, 'NELMDL': -5, 'NELMIN': 2, 'ENINI': 520.0, 'LDIAG': True, 'LSUBROT': False, 'WEIMIN': 0.001, 'EBREAK': 3.1299999999999997e-06, 'DEPER': 0.30000000000000004, 'NRMM': 4, 'TIME': 0.4, 'AMIX': 0.4, 'BMIX': 1.0, 'AMIN': 0.1, 'AMIX_MAG': 1.6, 'BMIX_MAG': 1.0, 'IMIX': 4, 'MIXFIRST': False, 'MAXMIX': -45, 'WC': 100.0, 'INIMIX': 1, 'MIXPRE': 1, 'MREMOVE': 5, 'LDIPOL': False, 'LMONO': False, 'IDIPOL': 0, 'EPSILON': 1.0, 'DIPOL': [-100.0, -100.0, -100.0], 'EFIELD': 0.0, 'NGX': 28, 'NGY': 40, 'NGZ': 90, 'NGXF': 56, 'NGYF': 80, 'NGZF': 180, 'ADDGRID': False, 'NSW': 99, 'IBRION': 2, 'MDALGO': 0, 'ISIF': 3, 'PSTRESS': 0.0, 'EDIFFG': 0.006, 'NFREE': 1, 'POTIM': 0.5, 'SMASS': -3.0, 'SCALEE': 1.0, 'TEBEG': 0.0001, 'TEEND': 0.0001, 'NBLOCK': 1, 'KBLOCK': 99, 'NPACO': 256, 'APACO': 16.0, 'ISYM': 2, 'SYMPREC': 1e-05, 'LORBIT': 11, 'RWIGS': [-1.0], 'NEDOS': 301, 'EMIN': 10.0, 'EMAX': -10.0, 'EFERMI': 0.0, 'NWRITE': 2, 'LWAVE': False, 'LDOWNSAMPLE': False, 'LCHARG': True, 'LPARD': False, 'LVTOT': False, 'LVHAR': False, 'LELF': False, 'LOPTICS': False, 'STM': [0.0, 0.0, 0.0, 0.0, 0.0, 0.0, 0.0], 'NPAR': 24, 'NSIM': 4, 'NBLK': -1, 'LPLANE': True, 'LSCALAPACK': True, 'LSCAAWARE': False, 'LSCALU': False, 'LASYNC': False, 'LORBITALREAL': False, 'IDIOT': 3, 'ISPECIAL': 0, 'LMUSIC': False, 'POMASS': [28.085], 'DARWINR': [0.0], 'DARWINV': [1.0], 'LCORR': True, 'GGA_COMPAT': True, 'LBERRY': False, 'ICORELEVEL': 0, 'LDAU': False, 'I_CONSTRAINED_M': 0, 'GGA': '--', 'VOSKOWN': 0, 'LHFCALC': False, 'PRECFOCK': None, 'LSYMGRAD': False, 'LHFONE': False, 'LRHFCALC': False, 'LTHOMAS': False, 'LMODELHF': False, 'LFOCKACE': False, 'ENCUT4O': -1.0, 'EXXOEP': 0, 'FOURORBIT': 0, 'AEXX': 0.0, 'HFALPHA': 0.0, 'MCALPHA': 0.0, 'ALDAX': 1.0, 'AGGAX': 1.0, 'ALDAC': 1.0, 'AGGAC': 1.0, 'NKREDX': 1, 'NKREDY': 1, 'NKREDZ': 1, 'SHIFTRED': False, 'ODDONLY': False, 'EVENONLY': False, 'LMAXFOCK': 0, 'NMAXFOCKAE': 0, 'LFOCKAEDFT': False, 'HFSCREEN': 0.0, 'HFSCREENC': 0.0, 'NBANDSGWLOW': 0, 'LUSE_VDW': False, 'Zab_VDW': -0.8491000000000001, 'PARAM1': 0.12340000000000001, 'PARAM2': 1.0, 'PARAM3': 0.0, 'MODEL_GW': 0, 'MODEL_EPS0': 10.84663866, 'MODEL_ALPHA': 1.0, 'LEPSILON': False, 'LRPA': False, 'LNABLA': False, 'LVEL': False, 'KINTER': 0, 'CSHIFT': 0.1, 'OMEGAMAX': -1.0, 'DEG_THRESHOLD': 0.002, 'RTIME': -0.1, 'WPLASMAI': 0.0, 'DFIELD': [0.0, 0.0, 0.0], 'WPLASMA': [0.0, 0.0, 0.0, 0.0, 0.0, 0.0, 0.0, 0.0, 0.0], 'NUCIND': False, 'MAGPOS': [0.0, 0.0, 0.0], 'LNICSALL': True, 'ORBITALMAG': False, 'LMAGBLOCH': False, 'LCHIMAG': False, 'LGAUGE': True, 'MAGATOM': 0, 'MAGDIPOL': [0.0, 0.0, 0.0], 'AVECCONST': [0.0, 0.0, 0.0], 'LADDER': False, 'LRPAFORCE': False, 'LFXC': False, 'LHARTREE': True, 'IBSE': 0, 'KPOINT': [-1, 0, 0, 0], 'LTCTE': False, 'LTETE': False, 'LTRIPLET': False, 'LFXCEPS': False, 'LFXHEG': False, 'NATURALO': 2, 'L2ORDER': False, 'LMP2LT': False, 'LUSEW': False, 'ENCUTGW': -2.0, 'ENCUTGWSOFT': -2.0, 'ENCUTLF': -1.0, 'LMAXMP2': -1, 'SCISSOR': 0.0, 'NOMEGA': 0, 'NOMEGAR': 0, 'NBANDSGW': -1, 'NBANDSO': -1, 'NBANDSV': -1, 'NELMHF': 1, 'DIM': 3, 'ANTIRES': 0, 'OMEGAMIN': -30.0, 'OMEGATL': -200.0, 'OMEGAGRID': 140, 'SELFENERGY': False, 'LSPECTRAL': False, 'LSPECTRALGW': False, 'LSINGLES': False, 'LFERMIGW': False, 'ODDONLYGW': False, 'EVENONLYGW': False, 'NKREDLFX': 1, 'NKREDLFY': 1, 'NKREDLFZ': 1, 'MAXMEM': 2800, 'TELESCOPE': 0, 'TAUPAR': 1, 'OMEGAPAR': -1, 'LAMBDA': 1.0, 'OFIELD_KAPPA': 0.0, 'OFIELD_K': [0.0, 0.0, 0.0], 'OFIELD_Q6_NEAR': 0.0, 'OFIELD_Q6_FAR': 0.0, 'OFIELD_A': 0.0}, lattice_rec=Lattice\n",
       "     abc : 1.7319479898961836 1.168628349895977 0.49367019565125303\n",
       "  angles : 90.0 90.0 70.28303719185276\n",
       "  volume : 0.9406083958239928\n",
       "       A : np.float64(1.630405098873338) np.float64(0.5843141734317691) np.float64(0.0)\n",
       "       B : np.float64(0.0) np.float64(1.168628349895977) np.float64(0.0)\n",
       "       C : np.float64(0.0) np.float64(0.0) np.float64(0.49367019565125303)\n",
       "     pbc : True True True, structure=Structure Summary\n",
       " Lattice\n",
       "     abc : 3.607344 5.350033543026903 11.939347\n",
       "  angles : 90.0 90.0 109.70228711863966\n",
       "  volume : 216.93277310272637\n",
       "       A : np.float64(3.607344) np.float64(0.0) np.float64(0.0)\n",
       "       B : np.float64(-1.803672) np.float64(5.036827) np.float64(0.0)\n",
       "       C : np.float64(0.0) np.float64(0.0) np.float64(11.939347)\n",
       "     pbc : True True True\n",
       " PeriodicSite: Si (-5.113e-17, 2.446, 11.29) [0.2429, 0.4857, 0.9452]\n",
       " PeriodicSite: Si (1.804, 2.59, 0.6538) [0.7572, 0.5143, 0.05476]\n",
       " PeriodicSite: Si (-5.113e-17, 2.446, 6.623) [0.2429, 0.4857, 0.5548]\n",
       " PeriodicSite: Si (1.804, 2.59, 5.316) [0.7572, 0.5143, 0.4452]\n",
       " PeriodicSite: Si (1.804, 0.7183, 1.878) [0.5713, 0.1426, 0.1573]\n",
       " PeriodicSite: Si (-1.07e-16, 4.319, 10.06) [0.4287, 0.8574, 0.8427]\n",
       " PeriodicSite: Si (1.804, 0.7183, 4.092) [0.5713, 0.1426, 0.3427]\n",
       " PeriodicSite: Si (-1.07e-16, 4.319, 7.847) [0.4287, 0.8574, 0.6573]\n",
       " PeriodicSite: Si (1.719e-18, 0.2883, 10.86) [0.02862, 0.05724, 0.9094]\n",
       " PeriodicSite: Si (1.804, 4.749, 1.081) [0.9714, 0.9428, 0.09056]\n",
       " PeriodicSite: Si (1.719e-18, 0.2883, 7.051) [0.02862, 0.05724, 0.5906]\n",
       " PeriodicSite: Si (1.804, 4.749, 4.888) [0.9714, 0.9428, 0.4094], is_hubbard=False, hubbards=None), output=CalculationOutput(energy=-64.01663088, energy_per_atom=-5.334719239999999, structure=Structure Summary\n",
       " Lattice\n",
       "     abc : 3.85375715 5.7114025601763485 12.72749573\n",
       "  angles : 90.0 90.0 109.71696280814724\n",
       "  volume : 263.71252323885665\n",
       "       A : np.float64(3.85375715) np.float64(0.0) np.float64(-0.0)\n",
       "       B : np.float64(-1.92687857) np.float64(5.37654705) np.float64(-0.0)\n",
       "       C : np.float64(-0.0) np.float64(0.0) np.float64(12.72749573)\n",
       "     pbc : True True True\n",
       " PeriodicSite: Si (2.17e-08, 2.61, 12.03) [0.2427, 0.4855, 0.9453]\n",
       " PeriodicSite: Si (1.927, 2.766, 0.6962) [0.7573, 0.5145, 0.0547]\n",
       " PeriodicSite: Si (2.17e-08, 2.61, 7.06) [0.2427, 0.4855, 0.5547]\n",
       " PeriodicSite: Si (1.927, 2.766, 5.667) [0.7573, 0.5145, 0.4453]\n",
       " PeriodicSite: Si (1.927, 0.766, 1.999) [0.5712, 0.1425, 0.157]\n",
       " PeriodicSite: Si (4.288e-09, 4.611, 10.73) [0.4288, 0.8575, 0.843]\n",
       " PeriodicSite: Si (1.927, 0.766, 4.365) [0.5712, 0.1425, 0.343]\n",
       " PeriodicSite: Si (4.288e-09, 4.611, 8.362) [0.4288, 0.8575, 0.657]\n",
       " PeriodicSite: Si (2.866e-10, 0.3082, 11.58) [0.02866, 0.05732, 0.9095]\n",
       " PeriodicSite: Si (1.927, 5.068, 1.152) [0.9713, 0.9427, 0.09054]\n",
       " PeriodicSite: Si (2.866e-10, 0.3082, 7.516) [0.02866, 0.05732, 0.5905]\n",
       " PeriodicSite: Si (1.927, 5.068, 5.211) [0.9713, 0.9427, 0.4095], efermi=5.02810838, is_metal=False, bandgap=0.542399999999999, cbm=5.5175, vbm=4.9751, is_gap_direct=False, direct_gap=0.593, transition=None, mag_density=None, optical_absorption_coeff=None, epsilon_static=None, epsilon_static_wolfe=None, epsilon_ionic=None, frequency_dependent_dielectric=None, ionic_steps=[IonicStep(e_fr_energy=-61.0517584, e_wo_entrp=-61.0517584, e_0_energy=0.0, forces=[(0.0, 0.12971539999999998, -0.74193243), (0.0, -0.12971539999999998, 0.74193243), (-0.0, 0.12971539999999998, 0.74193243), (-0.0, -0.12971539999999998, -0.74193243), (0.0, 0.21193702, 0.39303126), (0.0, -0.21193702, -0.39303126), (-0.0, 0.21193702, -0.39303126), (-0.0, -0.21193702, 0.39303126), (-0.0, 0.29606641, -0.67538257), (-0.0, -0.29606641, 0.67538257), (0.0, 0.29606641, 0.67538257), (0.0, -0.29606641, -0.67538257)], stress=((236.76976274, 0.0, 0.0), (0.0, 257.67586667, -0.0), (0.0, 0.0, 226.15432541)), electronic_steps=[ElectronicStep(alphaZ=22.34555535, ewald=-1320.64946019, hartreedc=-132.93508708, XCdc=-107.02942811, pawpsdc=395.5025956, pawaedc=-184.35522436, eentropy=0.0, bandstr=176.93416282, atom=1236.7962164, e_fr_energy=86.60933043, e_wo_entrp=86.60933043, e_0_energy=86.60933043), ElectronicStep(alphaZ=None, ewald=None, hartreedc=None, XCdc=None, pawpsdc=None, pawaedc=None, eentropy=None, bandstr=None, atom=None, e_fr_energy=-56.86806547, e_wo_entrp=-56.86806547, e_0_energy=-56.86806547), ElectronicStep(alphaZ=None, ewald=None, hartreedc=None, XCdc=None, pawpsdc=None, pawaedc=None, eentropy=None, bandstr=None, atom=None, e_fr_energy=-62.17096933, e_wo_entrp=-62.17096933, e_0_energy=-62.17096933), ElectronicStep(alphaZ=None, ewald=None, hartreedc=None, XCdc=None, pawpsdc=None, pawaedc=None, eentropy=None, bandstr=None, atom=None, e_fr_energy=-62.24117437, e_wo_entrp=-62.24117437, e_0_energy=-62.24117437), ElectronicStep(alphaZ=None, ewald=None, hartreedc=None, XCdc=None, pawpsdc=None, pawaedc=None, eentropy=None, bandstr=None, atom=None, e_fr_energy=-62.24272773, e_wo_entrp=-62.24272773, e_0_energy=-62.24272773), ElectronicStep(alphaZ=None, ewald=None, hartreedc=None, XCdc=None, pawpsdc=None, pawaedc=None, eentropy=None, bandstr=None, atom=None, e_fr_energy=-60.9074061, e_wo_entrp=-60.9074061, e_0_energy=-60.9074061), ElectronicStep(alphaZ=None, ewald=None, hartreedc=None, XCdc=None, pawpsdc=None, pawaedc=None, eentropy=None, bandstr=None, atom=None, e_fr_energy=-60.94133618, e_wo_entrp=-60.94133618, e_0_energy=-60.94133618), ElectronicStep(alphaZ=None, ewald=None, hartreedc=None, XCdc=None, pawpsdc=None, pawaedc=None, eentropy=None, bandstr=None, atom=None, e_fr_energy=-61.01963868, e_wo_entrp=-61.01963868, e_0_energy=-61.01963868), ElectronicStep(alphaZ=None, ewald=None, hartreedc=None, XCdc=None, pawpsdc=None, pawaedc=None, eentropy=None, bandstr=None, atom=None, e_fr_energy=-61.04022656, e_wo_entrp=-61.04022656, e_0_energy=-61.04022656), ElectronicStep(alphaZ=None, ewald=None, hartreedc=None, XCdc=None, pawpsdc=None, pawaedc=None, eentropy=None, bandstr=None, atom=None, e_fr_energy=-61.04976657, e_wo_entrp=-61.04976657, e_0_energy=-61.04976657), ElectronicStep(alphaZ=None, ewald=None, hartreedc=None, XCdc=None, pawpsdc=None, pawaedc=None, eentropy=None, bandstr=None, atom=None, e_fr_energy=-61.05141406, e_wo_entrp=-61.05141406, e_0_energy=-61.05141406), ElectronicStep(alphaZ=22.34555535, ewald=-1320.64946019, hartreedc=-168.18271994, XCdc=-103.04037042, pawpsdc=484.82889096, pawaedc=-276.08806707, eentropy=0.0, bandstr=62.9381965, atom=1236.7962164, e_fr_energy=-61.0517584, e_wo_entrp=-61.0517584, e_0_energy=-61.0517584)], num_electronic_steps=12, structure=Structure Summary\n",
       " Lattice\n",
       "     abc : 3.607344 5.350033543026903 11.939347\n",
       "  angles : 90.0 90.0 109.70228711863966\n",
       "  volume : 216.93277310272637\n",
       "       A : np.float64(3.607344) np.float64(0.0) np.float64(0.0)\n",
       "       B : np.float64(-1.803672) np.float64(5.036827) np.float64(0.0)\n",
       "       C : np.float64(0.0) np.float64(0.0) np.float64(11.939347)\n",
       "     pbc : True True True\n",
       " PeriodicSite: Si (-5.113e-17, 2.446, 11.29) [0.2429, 0.4857, 0.9452]\n",
       " PeriodicSite: Si (1.804, 2.59, 0.6538) [0.7572, 0.5143, 0.05476]\n",
       " PeriodicSite: Si (-5.113e-17, 2.446, 6.623) [0.2429, 0.4857, 0.5548]\n",
       " PeriodicSite: Si (1.804, 2.59, 5.316) [0.7572, 0.5143, 0.4452]\n",
       " PeriodicSite: Si (1.804, 0.7183, 1.878) [0.5713, 0.1426, 0.1573]\n",
       " PeriodicSite: Si (-1.07e-16, 4.319, 10.06) [0.4287, 0.8574, 0.8427]\n",
       " PeriodicSite: Si (1.804, 0.7183, 4.092) [0.5713, 0.1426, 0.3427]\n",
       " PeriodicSite: Si (-1.07e-16, 4.319, 7.847) [0.4287, 0.8574, 0.6573]\n",
       " PeriodicSite: Si (1.719e-18, 0.2883, 10.86) [0.02862, 0.05724, 0.9094]\n",
       " PeriodicSite: Si (1.804, 4.749, 1.081) [0.9714, 0.9428, 0.09056]\n",
       " PeriodicSite: Si (1.719e-18, 0.2883, 7.051) [0.02862, 0.05724, 0.5906]\n",
       " PeriodicSite: Si (1.804, 4.749, 4.888) [0.9714, 0.9428, 0.4094]), IonicStep(e_fr_energy=-62.00186062, e_wo_entrp=-62.00186062, e_0_energy=0.0, forces=[(0.0, -0.12844804, 0.85146056), (-0.0, 0.12844804, -0.85146056), (0.0, -0.12844804, -0.85146056), (-0.0, 0.12844804, 0.85146056), (-0.0, -0.28386645, -0.44266958), (0.0, 0.28386645, 0.44266958), (-0.0, -0.28386645, 0.44266958), (0.0, 0.28386645, -0.44266958), (-0.0, -0.39016546, 0.6371884999999999), (-0.0, 0.39016546, -0.6371884999999999), (0.0, -0.39016546, -0.6371884999999999), (0.0, 0.39016546, 0.6371884999999999)], stress=((-95.03756677, -0.0, 0.0), (-0.0, -112.05928992, 0.0), (0.0, -0.0, -90.04846893)), electronic_steps=[ElectronicStep(alphaZ=15.45676715, ewald=-1179.18583237, hartreedc=-139.14761358, XCdc=-114.47766823, pawpsdc=484.7275877, pawaedc=-275.98595565, eentropy=0.0, bandstr=-94.30412463, atom=1236.7962164, e_fr_energy=-66.12062322, e_wo_entrp=-66.12062322, e_0_energy=-66.12062322), ElectronicStep(alphaZ=None, ewald=None, hartreedc=None, XCdc=None, pawpsdc=None, pawaedc=None, eentropy=None, bandstr=None, atom=None, e_fr_energy=-63.60025072, e_wo_entrp=-63.60025072, e_0_energy=-63.60025072), ElectronicStep(alphaZ=None, ewald=None, hartreedc=None, XCdc=None, pawpsdc=None, pawaedc=None, eentropy=None, bandstr=None, atom=None, e_fr_energy=-61.97760978, e_wo_entrp=-61.97760978, e_0_energy=-61.97760978), ElectronicStep(alphaZ=None, ewald=None, hartreedc=None, XCdc=None, pawpsdc=None, pawaedc=None, eentropy=None, bandstr=None, atom=None, e_fr_energy=-61.99283892, e_wo_entrp=-61.99283892, e_0_energy=-61.99283892), ElectronicStep(alphaZ=None, ewald=None, hartreedc=None, XCdc=None, pawpsdc=None, pawaedc=None, eentropy=None, bandstr=None, atom=None, e_fr_energy=-61.99972798, e_wo_entrp=-61.99972798, e_0_energy=-61.99972798), ElectronicStep(alphaZ=None, ewald=None, hartreedc=None, XCdc=None, pawpsdc=None, pawaedc=None, eentropy=None, bandstr=None, atom=None, e_fr_energy=-62.0010347, e_wo_entrp=-62.0010347, e_0_energy=-62.0010347), ElectronicStep(alphaZ=None, ewald=None, hartreedc=None, XCdc=None, pawpsdc=None, pawaedc=None, eentropy=None, bandstr=None, atom=None, e_fr_energy=-62.00180174, e_wo_entrp=-62.00180174, e_0_energy=-62.00180174), ElectronicStep(alphaZ=15.45676715, ewald=-1179.18583237, hartreedc=-180.41952988, XCdc=-113.27103973, pawpsdc=412.96775813, pawaedc=-202.27534456, eentropy=0.0, bandstr=-52.07085577, atom=1236.7962164, e_fr_energy=-62.00186062, e_wo_entrp=-62.00186062, e_0_energy=-62.00186062)], num_electronic_steps=8, structure=Structure Summary\n",
       " Lattice\n",
       "     abc : 4.07226411 6.093547717927987 13.40911912\n",
       "  angles : 90.0 90.0 109.52058962302135\n",
       "  volume : 313.61559898606083\n",
       "       A : np.float64(4.07226411) np.float64(0.0) np.float64(0.0)\n",
       "       B : np.float64(-2.03613205) np.float64(5.74329958) np.float64(-0.0)\n",
       "       C : np.float64(0.0) np.float64(0.0) np.float64(13.40911912)\n",
       "     pbc : True True True\n",
       " PeriodicSite: Si (2.28e-08, 2.797, 12.63) [0.2435, 0.4869, 0.9422]\n",
       " PeriodicSite: Si (2.036, 2.947, 0.7745) [0.7565, 0.5131, 0.05776]\n",
       " PeriodicSite: Si (2.28e-08, 2.797, 7.479) [0.2435, 0.4869, 0.5578]\n",
       " PeriodicSite: Si (2.036, 2.947, 5.93) [0.7565, 0.5131, 0.4422]\n",
       " PeriodicSite: Si (2.036, 0.8307, 2.13) [0.5723, 0.1446, 0.1588]\n",
       " PeriodicSite: Si (2.464e-08, 4.913, 11.28) [0.4277, 0.8554, 0.8412]\n",
       " PeriodicSite: Si (2.036, 0.8307, 4.575) [0.5723, 0.1446, 0.3412]\n",
       " PeriodicSite: Si (2.464e-08, 4.913, 8.835) [0.4277, 0.8554, 0.6588]\n",
       " PeriodicSite: Si (3.004e-10, 0.345, 12.16) [0.03004, 0.06008, 0.9067]\n",
       " PeriodicSite: Si (2.036, 5.398, 1.251) [0.97, 0.9399, 0.09329]\n",
       " PeriodicSite: Si (3.004e-10, 0.345, 7.955) [0.03004, 0.06008, 0.5933]\n",
       " PeriodicSite: Si (2.036, 5.398, 5.454) [0.97, 0.9399, 0.4067]), IonicStep(e_fr_energy=-63.97914648, e_wo_entrp=-63.97914648, e_0_energy=0.0, forces=[(-0.0, -0.0678169, 0.32552008), (-0.0, 0.0678169, -0.32552008), (0.0, -0.0678169, -0.32552008), (-0.0, 0.0678169, 0.32552008), (-0.0, -0.1129893, -0.24921331), (-0.0, 0.1129893, 0.24921331), (0.0, -0.1129893, 0.24921331), (-0.0, 0.1129893, -0.24921331), (0.0, -0.13350115, 0.25452558000000003), (0.0, 0.13350115, -0.25452558000000003), (-0.0, -0.13350115, -0.25452558000000003), (-0.0, 0.13350115, 0.25452558000000003)], stress=((-1.12045426, 0.0, 0.0), (0.0, -4.37306722, 0.0), (0.0, 0.0, 1.3272238)), electronic_steps=[ElectronicStep(alphaZ=18.43305298, ewald=-1245.43810392, hartreedc=-195.78998813, XCdc=-108.30992911, pawpsdc=413.11151622, pawaedc=-202.42521208, eentropy=0.0, bandstr=18.63129885, atom=1236.7962164, e_fr_energy=-64.99114879, e_wo_entrp=-64.99114879, e_0_energy=-64.99114879), ElectronicStep(alphaZ=None, ewald=None, hartreedc=None, XCdc=None, pawpsdc=None, pawaedc=None, eentropy=None, bandstr=None, atom=None, e_fr_energy=-64.3595096, e_wo_entrp=-64.3595096, e_0_energy=-64.3595096), ElectronicStep(alphaZ=None, ewald=None, hartreedc=None, XCdc=None, pawpsdc=None, pawaedc=None, eentropy=None, bandstr=None, atom=None, e_fr_energy=-63.97894397, e_wo_entrp=-63.97894397, e_0_energy=-63.97894397), ElectronicStep(alphaZ=None, ewald=None, hartreedc=None, XCdc=None, pawpsdc=None, pawaedc=None, eentropy=None, bandstr=None, atom=None, e_fr_energy=-63.97830512, e_wo_entrp=-63.97830512, e_0_energy=-63.97830512), ElectronicStep(alphaZ=None, ewald=None, hartreedc=None, XCdc=None, pawpsdc=None, pawaedc=None, eentropy=None, bandstr=None, atom=None, e_fr_energy=-63.97904759, e_wo_entrp=-63.97904759, e_0_energy=-63.97904759), ElectronicStep(alphaZ=18.43305298, ewald=-1245.43810392, hartreedc=-173.70244851, XCdc=-108.57964134, pawpsdc=440.1391065, pawaedc=-230.20497856, eentropy=0.0, bandstr=-1.42235004, atom=1236.7962164, e_fr_energy=-63.97914648, e_wo_entrp=-63.97914648, e_0_energy=-63.97914648)], num_electronic_steps=6, structure=Structure Summary\n",
       " Lattice\n",
       "     abc : 3.84298813 5.726875552857072 12.68429903\n",
       "  angles : 90.0 90.0 109.60429774632642\n",
       "  volume : 262.9777765706834\n",
       "       A : np.float64(3.84298813) np.float64(0.0) np.float64(0.0)\n",
       "       B : np.float64(-1.92149407) np.float64(5.39490168) np.float64(-0.0)\n",
       "       C : np.float64(0.0) np.float64(0.0) np.float64(12.68429903)\n",
       "     pbc : True True True\n",
       " PeriodicSite: Si (-2.432e-09, 2.624, 11.97) [0.2432, 0.4864, 0.9436]\n",
       " PeriodicSite: Si (1.921, 2.771, 0.7159) [0.7568, 0.5136, 0.05644]\n",
       " PeriodicSite: Si (-2.432e-09, 2.624, 7.058) [0.2432, 0.4864, 0.5564]\n",
       " PeriodicSite: Si (1.921, 2.771, 5.626) [0.7568, 0.5136, 0.4436]\n",
       " PeriodicSite: Si (1.921, 0.7755, 2.006) [0.5719, 0.1438, 0.1582]\n",
       " PeriodicSite: Si (1.493e-08, 4.619, 10.68) [0.4281, 0.8562, 0.8418]\n",
       " PeriodicSite: Si (1.921, 0.7755, 4.336) [0.5719, 0.1438, 0.3418]\n",
       " PeriodicSite: Si (1.493e-08, 4.619, 8.348) [0.4281, 0.8562, 0.6582]\n",
       " PeriodicSite: Si (-2.942e-10, 0.3175, 11.52) [0.02942, 0.05885, 0.9079]\n",
       " PeriodicSite: Si (1.921, 5.077, 1.168) [0.9706, 0.9412, 0.09209]\n",
       " PeriodicSite: Si (-2.942e-10, 0.3175, 7.51) [0.02942, 0.05885, 0.5921]\n",
       " PeriodicSite: Si (1.921, 5.077, 5.174) [0.9706, 0.9412, 0.4079]), IonicStep(e_fr_energy=-64.0091832, e_wo_entrp=-64.0091832, e_0_energy=0.0, forces=[(0.0, -0.03363944, 0.12177874), (0.0, 0.03363944, -0.12177874), (-0.0, -0.03363944, -0.12177874), (-0.0, 0.03363944, 0.12177874), (0.0, -0.02610715, -0.03411764), (-0.0, 0.02610715, 0.03411764), (-0.0, -0.02610715, 0.03411764), (0.0, 0.02610715, -0.03411764), (-0.0, -0.03466545, 0.14629404000000001), (-0.0, 0.03466545, -0.14629404000000001), (0.0, -0.03466545, -0.14629404000000001), (0.0, 0.03466545, 0.14629404000000001)], stress=((0.17090488, 0.0, 0.0), (0.0, -5.87577932, 0.0), (0.0, -0.0, -0.97318167)), electronic_steps=[ElectronicStep(alphaZ=18.34702492, ewald=-1239.19381605, hartreedc=-177.15670183, XCdc=-108.65296387, pawpsdc=440.01786894, pawaedc=-230.08269356, eentropy=0.0, bandstr=-4.08345628, atom=1236.7962164, e_fr_energy=-64.00852132, e_wo_entrp=-64.00852132, e_0_energy=-64.00852132), ElectronicStep(alphaZ=None, ewald=None, hartreedc=None, XCdc=None, pawpsdc=None, pawaedc=None, eentropy=None, bandstr=None, atom=None, e_fr_energy=-64.00951943, e_wo_entrp=-64.00951943, e_0_energy=-64.00951943), ElectronicStep(alphaZ=18.34702492, ewald=-1239.19381605, hartreedc=-177.72992294, XCdc=-108.63611063, pawpsdc=439.76964903, pawaedc=-229.82965366, eentropy=0.0, bandstr=-3.53257028, atom=1236.7962164, e_fr_energy=-64.0091832, e_wo_entrp=-64.0091832, e_0_energy=-64.0091832)], num_electronic_steps=3, structure=Structure Summary\n",
       " Lattice\n",
       "     abc : 3.8494706 5.727760648160729 12.72282339\n",
       "  angles : 90.0 90.0 109.63556505466708\n",
       "  volume : 264.21086319244864\n",
       "       A : np.float64(3.8494706) np.float64(0.0) np.float64(-0.0)\n",
       "       B : np.float64(-1.9247353) np.float64(5.39468591) np.float64(-0.0)\n",
       "       C : np.float64(0.0) np.float64(0.0) np.float64(12.72282339)\n",
       "     pbc : True True True\n",
       " PeriodicSite: Si (4.349e-18, 2.621, 12.02) [0.2429, 0.4859, 0.9446]\n",
       " PeriodicSite: Si (1.925, 2.774, 0.7046) [0.7571, 0.5141, 0.05538]\n",
       " PeriodicSite: Si (4.349e-18, 2.621, 7.066) [0.2429, 0.4859, 0.5554]\n",
       " PeriodicSite: Si (1.925, 2.774, 5.657) [0.7571, 0.5141, 0.4446]\n",
       " PeriodicSite: Si (1.925, 0.7708, 2.002) [0.5714, 0.1429, 0.1573]\n",
       " PeriodicSite: Si (-7.573e-17, 4.624, 10.72) [0.4286, 0.8571, 0.8427]\n",
       " PeriodicSite: Si (1.925, 0.7708, 4.36) [0.5714, 0.1429, 0.3427]\n",
       " PeriodicSite: Si (-7.573e-17, 4.624, 8.363) [0.4286, 0.8571, 0.6573]\n",
       " PeriodicSite: Si (4.725e-18, 0.3119, 11.56) [0.02891, 0.05782, 0.9087]\n",
       " PeriodicSite: Si (1.925, 5.083, 1.161) [0.9711, 0.9422, 0.09127]\n",
       " PeriodicSite: Si (4.725e-18, 0.3119, 7.523) [0.02891, 0.05782, 0.5913]\n",
       " PeriodicSite: Si (1.925, 5.083, 5.2) [0.9711, 0.9422, 0.4087]), IonicStep(e_fr_energy=-64.01308191, e_wo_entrp=-64.01308191, e_0_energy=0.0, forces=[(0.0, -0.01844123, 0.01786992), (-0.0, 0.01844123, -0.01786992), (0.0, -0.01844123, -0.01786992), (-0.0, 0.01844123, 0.01786992), (0.0, 0.01786574, 0.07018368), (0.0, -0.01786574, -0.07018368), (-0.0, 0.01786574, -0.07018368), (-0.0, -0.01786574, 0.07018368), (0.0, 0.01598759, 0.09042826), (0.0, -0.01598759, -0.09042826), (0.0, 0.01598759, -0.09042826), (-0.0, -0.01598759, 0.09042826)], stress=((0.25733576, -0.0, 0.0), (-0.0, -7.06967783, 0.0), (0.0, 0.0, -2.99502038)), electronic_steps=[ElectronicStep(alphaZ=18.3025215, ewald=-1235.87187406, hartreedc=-179.71320731, XCdc=-108.66907799, pawpsdc=439.61069209, pawaedc=-229.66638521, eentropy=0.0, bandstr=-4.80166409, atom=1236.7962164, e_fr_energy=-64.01277867, e_wo_entrp=-64.01277867, e_0_energy=-64.01277867), ElectronicStep(alphaZ=None, ewald=None, hartreedc=None, XCdc=None, pawpsdc=None, pawaedc=None, eentropy=None, bandstr=None, atom=None, e_fr_energy=-64.01316714, e_wo_entrp=-64.01316714, e_0_energy=-64.01316714), ElectronicStep(alphaZ=18.3025215, ewald=-1235.87187406, hartreedc=-180.02112556, XCdc=-108.65923283, pawpsdc=439.49360602, pawaedc=-229.54594589, eentropy=0.0, bandstr=-4.50724748, atom=1236.7962164, e_fr_energy=-64.01308191, e_wo_entrp=-64.01308191, e_0_energy=-64.01308191)], num_electronic_steps=3, structure=Structure Summary\n",
       " Lattice\n",
       "     abc : 3.85284259 5.728221719488739 12.74286262\n",
       "  angles : 90.0 90.0 109.65182555171899\n",
       "  volume : 264.8533042118845\n",
       "       A : np.float64(3.85284259) np.float64(0.0) np.float64(-0.0)\n",
       "       B : np.float64(-1.92642129) np.float64(5.39457367) np.float64(-0.0)\n",
       "       C : np.float64(0.0) np.float64(0.0) np.float64(12.74286262)\n",
       "     pbc : True True True\n",
       " PeriodicSite: Si (-1.684e-08, 2.62, 12.04) [0.2428, 0.4856, 0.9452]\n",
       " PeriodicSite: Si (1.926, 2.775, 0.6986) [0.7572, 0.5144, 0.05483]\n",
       " PeriodicSite: Si (-1.684e-08, 2.62, 7.07) [0.2428, 0.4856, 0.5548]\n",
       " PeriodicSite: Si (1.926, 2.775, 5.673) [0.7572, 0.5144, 0.4452]\n",
       " PeriodicSite: Si (1.926, 0.7683, 1.999) [0.5712, 0.1424, 0.1569]\n",
       " PeriodicSite: Si (-1.498e-08, 4.626, 10.74) [0.4288, 0.8576, 0.8431]\n",
       " PeriodicSite: Si (1.926, 0.7683, 4.372) [0.5712, 0.1424, 0.3431]\n",
       " PeriodicSite: Si (-1.498e-08, 4.626, 8.371) [0.4288, 0.8576, 0.6569]\n",
       " PeriodicSite: Si (1.955e-08, 0.309, 11.59) [0.02864, 0.05729, 0.9092]\n",
       " PeriodicSite: Si (1.926, 5.086, 1.158) [0.9714, 0.9427, 0.09084]\n",
       " PeriodicSite: Si (1.955e-08, 0.309, 7.529) [0.02864, 0.05729, 0.5908]\n",
       " PeriodicSite: Si (1.926, 5.086, 5.214) [0.9714, 0.9427, 0.4092]), IonicStep(e_fr_energy=-64.01602426, e_wo_entrp=-64.01602426, e_0_energy=0.0, forces=[(0.0, 0.034522899999999995, 0.0016055), (0.0, -0.034522899999999995, -0.0016055), (-0.0, 0.034522899999999995, -0.0016055), (0.0, -0.034522899999999995, 0.0016055), (0.0, -0.01233365, 0.01171141), (-0.0, 0.01233365, -0.01171141), (0.0, -0.01233365, -0.01171141), (-0.0, 0.01233365, 0.01171141), (-0.0, -0.03454634, -0.038245970000000004), (0.0, 0.03454634, 0.038245970000000004), (-0.0, -0.03454634, 0.038245970000000004), (0.0, 0.03454634, -0.038245970000000004)], stress=((-0.045722399999999996, 0.0, 0.0), (0.0, 2.64128524, 0.0), (0.0, 0.0, 2.67970038)), electronic_steps=[ElectronicStep(alphaZ=18.41355267, ewald=-1237.7670611, hartreedc=-180.93253994, XCdc=-108.46998706, pawpsdc=439.41423838, pawaedc=-229.46394538, eentropy=0.0, bandstr=-2.00895734, atom=1236.7962164, e_fr_energy=-64.01848336, e_wo_entrp=-64.01848336, e_0_energy=-64.01848336), ElectronicStep(alphaZ=None, ewald=None, hartreedc=None, XCdc=None, pawpsdc=None, pawaedc=None, eentropy=None, bandstr=None, atom=None, e_fr_energy=-64.01692683, e_wo_entrp=-64.01692683, e_0_energy=-64.01692683), ElectronicStep(alphaZ=None, ewald=None, hartreedc=None, XCdc=None, pawpsdc=None, pawaedc=None, eentropy=None, bandstr=None, atom=None, e_fr_energy=-64.01602804, e_wo_entrp=-64.01602804, e_0_energy=-64.01602804), ElectronicStep(alphaZ=18.41355267, ewald=-1237.7670611, hartreedc=-180.26016138, XCdc=-108.47671641, pawpsdc=440.49276165, pawaedc=-230.56942206, eentropy=0.0, bandstr=-2.64519404, atom=1236.7962164, e_fr_energy=-64.01602426, e_wo_entrp=-64.01602426, e_0_energy=-64.01602426)], num_electronic_steps=4, structure=Structure Summary\n",
       " Lattice\n",
       "     abc : 3.85412327 5.704671460759431 12.72134394\n",
       "  angles : 90.0 90.0 109.74314679340257\n",
       "  volume : 263.25627494887897\n",
       "       A : np.float64(3.85412327) np.float64(0.0) np.float64(-0.0)\n",
       "       B : np.float64(-1.92706164) np.float64(5.36933049) np.float64(-0.0)\n",
       "       C : np.float64(-0.0) np.float64(0.0) np.float64(12.72134394)\n",
       "     pbc : True True True\n",
       " PeriodicSite: Si (-2.427e-09, 2.606, 12.03) [0.2427, 0.4854, 0.9453]\n",
       " PeriodicSite: Si (1.927, 2.763, 0.6953) [0.7573, 0.5146, 0.05466]\n",
       " PeriodicSite: Si (-2.427e-09, 2.606, 7.056) [0.2427, 0.4854, 0.5547]\n",
       " PeriodicSite: Si (1.927, 2.763, 5.665) [0.7573, 0.5146, 0.4453]\n",
       " PeriodicSite: Si (1.927, 0.7651, 1.998) [0.5712, 0.1425, 0.1571]\n",
       " PeriodicSite: Si (-2.356e-08, 4.604, 10.72) [0.4288, 0.8575, 0.8429]\n",
       " PeriodicSite: Si (1.927, 0.7651, 4.362) [0.5712, 0.1425, 0.3429]\n",
       " PeriodicSite: Si (-2.356e-08, 4.604, 8.359) [0.4288, 0.8575, 0.6571]\n",
       " PeriodicSite: Si (-2.867e-10, 0.3078, 11.57) [0.02867, 0.05733, 0.9096]\n",
       " PeriodicSite: Si (1.927, 5.062, 1.15) [0.9713, 0.9427, 0.09042]\n",
       " PeriodicSite: Si (-2.867e-10, 0.3078, 7.511) [0.02867, 0.05733, 0.5904]\n",
       " PeriodicSite: Si (1.927, 5.062, 5.21) [0.9713, 0.9427, 0.4096]), IonicStep(e_fr_energy=-64.01663088, e_wo_entrp=-64.01663088, e_0_energy=0.0, forces=[(0.0, 0.01800242, 0.00902478), (-0.0, -0.01800242, -0.00902478), (0.0, 0.01800242, -0.00902478), (0.0, -0.01800242, 0.00902478), (-0.0, -0.00381555, 0.02926792), (0.0, 0.00381555, -0.02926792), (-0.0, -0.00381555, -0.02926792), (-0.0, 0.00381555, 0.02926792), (0.0, -0.01990913, 0.0024362200000000002), (-0.0, 0.01990913, -0.0024362200000000002), (-0.0, -0.01990913, -0.0024362200000000002), (0.0, 0.01990913, 0.0024362200000000002)], stress=((-0.11241443, 0.0, 0.0), (0.0, 0.97428115, 0.0), (0.0, 0.0, 1.49614507)), electronic_steps=[ElectronicStep(alphaZ=18.38169547, ewald=-1237.22681853, hartreedc=-179.99873984, XCdc=-108.52961821, pawpsdc=440.57142959, pawaedc=-230.65078497, eentropy=0.0, bandstr=-3.36015321, atom=1236.7962164, e_fr_energy=-64.0167733, e_wo_entrp=-64.0167733, e_0_energy=-64.0167733), ElectronicStep(alphaZ=18.38169547, ewald=-1237.22681853, hartreedc=-180.07572988, XCdc=-108.52773635, pawpsdc=440.47448979, pawaedc=-230.55170774, eentropy=0.0, bandstr=-3.28704004, atom=1236.7962164, e_fr_energy=-64.01663088, e_wo_entrp=-64.01663088, e_0_energy=-64.01663088)], num_electronic_steps=2, structure=Structure Summary\n",
       " Lattice\n",
       "     abc : 3.85375715 5.7114025601763485 12.72749573\n",
       "  angles : 90.0 90.0 109.71696280814724\n",
       "  volume : 263.71252323885665\n",
       "       A : np.float64(3.85375715) np.float64(0.0) np.float64(-0.0)\n",
       "       B : np.float64(-1.92687857) np.float64(5.37654705) np.float64(-0.0)\n",
       "       C : np.float64(-0.0) np.float64(0.0) np.float64(12.72749573)\n",
       "     pbc : True True True\n",
       " PeriodicSite: Si (2.17e-08, 2.61, 12.03) [0.2427, 0.4855, 0.9453]\n",
       " PeriodicSite: Si (1.927, 2.766, 0.6962) [0.7573, 0.5145, 0.0547]\n",
       " PeriodicSite: Si (2.17e-08, 2.61, 7.06) [0.2427, 0.4855, 0.5547]\n",
       " PeriodicSite: Si (1.927, 2.766, 5.667) [0.7573, 0.5145, 0.4453]\n",
       " PeriodicSite: Si (1.927, 0.766, 1.999) [0.5712, 0.1425, 0.157]\n",
       " PeriodicSite: Si (4.288e-09, 4.611, 10.73) [0.4288, 0.8575, 0.843]\n",
       " PeriodicSite: Si (1.927, 0.766, 4.365) [0.5712, 0.1425, 0.343]\n",
       " PeriodicSite: Si (4.288e-09, 4.611, 8.362) [0.4288, 0.8575, 0.657]\n",
       " PeriodicSite: Si (2.866e-10, 0.3082, 11.58) [0.02866, 0.05732, 0.9095]\n",
       " PeriodicSite: Si (1.927, 5.068, 1.152) [0.9713, 0.9427, 0.09054]\n",
       " PeriodicSite: Si (2.866e-10, 0.3082, 7.516) [0.02866, 0.05732, 0.5905]\n",
       " PeriodicSite: Si (1.927, 5.068, 5.211) [0.9713, 0.9427, 0.4095])], num_electronic_steps=None, locpot=None, outcar={'@module': 'pymatgen.io.vasp.outputs', '@class': 'Outcar', 'efermi': 5.0281, 'magnetization': [{'s': 0.0, 'p': 0.0, 'd': 0.0, 'tot': 0.0}, {'s': 0.0, 'p': 0.0, 'd': 0.0, 'tot': 0.0}, {'s': 0.0, 'p': 0.0, 'd': 0.0, 'tot': 0.0}, {'s': 0.0, 'p': 0.0, 'd': 0.0, 'tot': 0.0}, {'s': 0.0, 'p': 0.0, 'd': 0.0, 'tot': 0.0}, {'s': 0.0, 'p': 0.0, 'd': 0.0, 'tot': 0.0}, {'s': 0.0, 'p': 0.0, 'd': 0.0, 'tot': 0.0}, {'s': 0.0, 'p': 0.0, 'd': 0.0, 'tot': 0.0}, {'s': 0.0, 'p': 0.0, 'd': 0.0, 'tot': 0.0}, {'s': 0.0, 'p': 0.0, 'd': 0.0, 'tot': 0.0}, {'s': 0.0, 'p': 0.0, 'd': 0.0, 'tot': 0.0}, {'s': 0.0, 'p': 0.0, 'd': 0.0, 'tot': 0.0}], 'charge': [{'s': 0.756, 'p': 0.914, 'd': 0.0, 'tot': 1.67}, {'s': 0.756, 'p': 0.914, 'd': 0.0, 'tot': 1.67}, {'s': 0.756, 'p': 0.914, 'd': 0.0, 'tot': 1.67}, {'s': 0.756, 'p': 0.914, 'd': 0.0, 'tot': 1.67}, {'s': 0.751, 'p': 0.921, 'd': 0.0, 'tot': 1.673}, {'s': 0.751, 'p': 0.921, 'd': 0.0, 'tot': 1.673}, {'s': 0.751, 'p': 0.921, 'd': 0.0, 'tot': 1.673}, {'s': 0.751, 'p': 0.921, 'd': 0.0, 'tot': 1.673}, {'s': 0.756, 'p': 0.922, 'd': 0.0, 'tot': 1.679}, {'s': 0.756, 'p': 0.922, 'd': 0.0, 'tot': 1.679}, {'s': 0.756, 'p': 0.922, 'd': 0.0, 'tot': 1.679}, {'s': 0.756, 'p': 0.922, 'd': 0.0, 'tot': 1.679}], 'total_magnetization': 0.0, 'nelect': 47.9999999, 'is_stopped': False, 'drift': [[0.0, 0.0, -0.0], [0.0, 0.0, -0.0], [-0.0, 0.0, -0.0], [-0.0, 0.0, -0.0], [-0.0, 0.0, -0.0], [-0.0, 0.0, -0.0], [-0.0, 0.0, -0.0]], 'ngf': [56, 80, 180], 'sampling_radii': [0.9892000000000001], 'electrostatic_potential': [-84.1935, -84.1935, -84.1935, -84.1935, -84.2933, -84.2933, -84.2933, -84.2933, -84.1752, -84.1752, -84.1752, -84.1752]}, force_constants=None, normalmode_frequencies=None, normalmode_eigenvals=None, normalmode_eigenvecs=None, elph_displaced_structures=None, dos_properties=None, run_stats=None), completed_at='2018-04-27 11:51:39.450467', task_name=None, output_file_paths={'chgcar': 'CHGCAR.relax1.gz', 'wavecar': 'WAVECAR.relax1.gz', 'procar': 'PROCAR.relax1.gz'}, bader=None, ddec6=None, run_type=<RunType.GGA: 'GGA'>, task_type=None, calc_type=None)]"
      ]
     },
     "execution_count": 84,
     "metadata": {},
     "output_type": "execute_result"
    }
   ],
   "source": [
    "results[0].calcs_reversed\n"
   ]
  },
  {
   "cell_type": "code",
   "execution_count": null,
   "id": "cea17a81-ab5e-4fac-85d4-1d8c15af5b06",
   "metadata": {},
   "outputs": [],
   "source": []
  },
  {
   "cell_type": "code",
   "execution_count": null,
   "id": "afd26254-e6da-46e4-a1ea-31129a039d16",
   "metadata": {},
   "outputs": [],
   "source": []
  },
  {
   "cell_type": "code",
   "execution_count": null,
   "id": "62681a29-010b-4778-9782-1c4ab0848d8d",
   "metadata": {},
   "outputs": [],
   "source": []
  },
  {
   "cell_type": "code",
   "execution_count": null,
   "id": "343a3f81-088a-42ac-95cd-806d3b8e052d",
   "metadata": {},
   "outputs": [],
   "source": []
  },
  {
   "cell_type": "code",
   "execution_count": null,
   "id": "06bb4ebc-b2c6-4820-ad79-f15a7784ae4d",
   "metadata": {},
   "outputs": [],
   "source": []
  },
  {
   "cell_type": "code",
   "execution_count": null,
   "id": "de132e4a-e679-42b1-9555-8715cb8e6d7d",
   "metadata": {},
   "outputs": [],
   "source": []
  }
 ],
 "metadata": {
  "kernelspec": {
   "display_name": "default",
   "language": "python",
   "name": "default"
  },
  "language_info": {
   "codemirror_mode": {
    "name": "ipython",
    "version": 3
   },
   "file_extension": ".py",
   "mimetype": "text/x-python",
   "name": "python",
   "nbconvert_exporter": "python",
   "pygments_lexer": "ipython3",
   "version": "3.12.9"
  }
 },
 "nbformat": 4,
 "nbformat_minor": 5
}

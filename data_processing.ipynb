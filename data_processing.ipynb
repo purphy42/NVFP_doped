{
 "cells": [
  {
   "cell_type": "code",
   "execution_count": 2,
   "id": "ede5cc7e-ef46-451a-8910-9d2807997668",
   "metadata": {},
   "outputs": [],
   "source": [
    "import os\n",
    "import numpy as np\n",
    "import pandas as pd\n",
    "import matplotlib.pyplot as plt\n",
    "from tqdm import tqdm\n",
    "from mp_api.client import MPRester\n",
    "from pymatgen.core import Composition, Element\n",
    "from pymatgen.analysis.phase_diagram import GrandPotentialPhaseDiagram, PhaseDiagram\n",
    "from pymatgen.analysis.interface_reactions import InterfacialReactivity, GrandPotentialInterfacialReactivity\n",
    "from pymatgen.io.vasp import Vasprun\n",
    "from pymatgen.entries.compatibility import MaterialsProject2020Compatibility\n",
    "from pymatgen.entries.computed_entries import ComputedEntry\n",
    "\n",
    "    `"
   ]
  },
  {
   "cell_type": "code",
   "execution_count": null,
   "id": "88d6025c-0164-47e1-8827-4076dd3c9427",
   "metadata": {},
   "outputs": [],
   "source": []
  },
  {
   "cell_type": "code",
   "execution_count": null,
   "id": "b5ea516d-6316-488b-b329-361294357692",
   "metadata": {},
   "outputs": [],
   "source": []
  },
  {
   "cell_type": "code",
   "execution_count": 1,
   "id": "515cf5e5-efeb-4d3d-bec1-11adf04c728a",
   "metadata": {},
   "outputs": [],
   "source": [
    "api_key = 'HbSHn48X1CSvBzRa4DOX5E9rhb5Tcc03'"
   ]
  },
  {
   "cell_type": "code",
   "execution_count": null,
   "id": "9341daa8-af96-4e78-aea2-fa6075c398a0",
   "metadata": {},
   "outputs": [],
   "source": []
  },
  {
   "cell_type": "code",
   "execution_count": null,
   "id": "fa689c05-3b55-4182-89d1-da567cbc02e9",
   "metadata": {},
   "outputs": [],
   "source": []
  },
  {
   "cell_type": "code",
   "execution_count": null,
   "id": "ded2b754-3977-48ce-9de3-86bd58819d17",
   "metadata": {},
   "outputs": [],
   "source": [
    "def create_dataframe_from_calc(vasprun_path: str, calc_name: str, if_save: bool) -> None:\n",
    "    \"\"\"\n",
    "        Inputs:\n",
    "            vasprun_path - path to vasprun.xml\n",
    "            calc_name - name to save a file\n",
    "            if_save - save pandas dataframe as csv\n",
    "        Returns:\n",
    "            pandasDataframe - dataframe with the results\n",
    "    \"\"\"\n",
    "\n",
    "    # Extraction of the calculation\n",
    "    vasprun = Vasprun(vasprun_path)    \n",
    "    # include structure so proper correction can be applied for oxides and sulfides\n",
    "    reactant2 = vasprun.get_computed_entry(inc_structure=True)\n",
    "    reactant2.parameters['run_type'] = 'GGA'\n",
    "    compatibility = MaterialsProject2020Compatibility()\n",
    "    compatibility.process_entry(reactant2)\n",
    "\n",
    "    # Find coatings \n",
    "    comps = []\n",
    "    emins = []\n",
    "    reactions = []\n",
    "    \n",
    "    with MPRester(api_key=api_key) as mpr:\n",
    "        for comp in tqdm(cathode_coatings.formula_pretty.unique()):\n",
    "            try:\n",
    "                # Is the system open to an elemental reservoir?\n",
    "                grand = True\n",
    "    \n",
    "                if grand:\n",
    "                    # Element in the elemental reservoir.\n",
    "                    open_el = \"Li\" \n",
    "                    # Relative chemical potential vs. pure substance. Must be non-positive.\n",
    "                    relative_mu = -3.8 # average intercalation potential\n",
    "    \n",
    "    \n",
    "                # Get the compositions of the reactants\n",
    "                reactant1 = comp\n",
    "    \n",
    "                comp1 = Composition(reactant1)\n",
    "                comp2 = reactant2.composition # as it is manually calculated phase\n",
    "    \n",
    "                # Gather all elements involved in the chemical system.\n",
    "                # elements = [e.symbol for e in comp1.elements + comp2.elements]\n",
    "                elements = [e.symbol for e in comp1.elements + comp2.elements]\n",
    "                \n",
    "                if grand:\n",
    "                    elements.append(open_el)\n",
    "                elements = list(set(elements))  # Remove duplicates\n",
    "    \n",
    "                entries = mpr.get_entries_in_chemsys(elements, additional_criteria={'thermo_types': ['GGA_GGA+U']})\n",
    "    \n",
    "                # Build a phase diagram using these entries.\n",
    "                phase_diagram = PhaseDiagram(entries)\n",
    "    \n",
    "                # For an open system, include the grand potential phase diagram.\n",
    "                if grand:\n",
    "                    # Get the chemical potential of the pure subtance.\n",
    "                    mu = phase_diagram.get_transition_chempots(Element(open_el))[0]\n",
    "                    # Set the chemical potential in the elemental reservoir.\n",
    "                    chempots = {open_el: relative_mu + mu}\n",
    "                    # Build the grand potential phase diagram\n",
    "                    gpd = GrandPotentialPhaseDiagram(entries, chempots)\n",
    "                    # Create InterfacialReactivity object.\n",
    "                    interface = GrandPotentialInterfacialReactivity(\n",
    "                        comp1,\n",
    "                        comp2,\n",
    "                        gpd,\n",
    "                        norm=True,\n",
    "                        include_no_mixing_energy=True,\n",
    "                        pd_non_grand=phase_diagram,\n",
    "                        use_hull_energy=True,\n",
    "                    )\n",
    "                    \n",
    "                else:\n",
    "                    interface = InterfacialReactivity(\n",
    "                        comp1,\n",
    "                        comp2,\n",
    "                        phase_diagram,\n",
    "                        norm=True,\n",
    "                        include_no_mixing_energy=False,\n",
    "                        pd_non_grand=None,\n",
    "                        use_hull_energy=True,\n",
    "                    )\n",
    "                    \n",
    "                interface_table = interface.get_dataframe()\n",
    "                emins.append(interface.get_dataframe()['E$_{\\textrm{rxn}}$ (eV/atom)'].min())\n",
    "                comps.append(comp)\n",
    "                index = np.argmin(interface_table['E$_{\\textrm{rxn}}$ (eV/atom)'].values)\n",
    "                reactions.append(interface_table['Reaction'].iloc[index])\n",
    "            except:\n",
    "                continue\n",
    "\n",
    "    res = pd.DataFrame()\n",
    "    res['formula_pretty'] = comps\n",
    "    res[f'e_rxn_{calc_name}_CC'] = emins\n",
    "    res[f'interface_reaction_{calc_name}'] = reactions\n",
    "\n",
    "    if if_save:\n",
    "        res.merge(cathode_coatings).round(3).to_csv(f'data_nmc/{calc_name}_CC_calculation_results.csv', index = False)\n",
    "        \n",
    "    return res\n",
    "    \n",
    "    \n",
    "    \n"
   ]
  },
  {
   "cell_type": "code",
   "execution_count": null,
   "id": "6188178c-885e-461a-8a92-3a65749c0d76",
   "metadata": {},
   "outputs": [],
   "source": []
  },
  {
   "cell_type": "code",
   "execution_count": null,
   "id": "c7ffb8ca-a618-4052-8d4b-92c6f31e6ceb",
   "metadata": {},
   "outputs": [],
   "source": [
    "# Path to vasprun.xml file\n",
    "vasprun_path = \"/home/arseniy/Desktop/work/nvpf_al_doped/bulk/bulk.inter.su.9_bulk_eos/100.vasprun.xml\"\n",
    "\n"
   ]
  },
  {
   "cell_type": "code",
   "execution_count": null,
   "id": "14574c63-f3da-421c-8ce1-49506c764dba",
   "metadata": {},
   "outputs": [],
   "source": []
  },
  {
   "cell_type": "code",
   "execution_count": null,
   "id": "52d19ab2-b39d-4679-88f2-2b5a9dd822bb",
   "metadata": {},
   "outputs": [],
   "source": [
    "# Parse vasprun.xml\n",
    "vasprun = Vasprun(vasprun_path)\n",
    "\n",
    "# Get final energy\n",
    "final_energy = vasprun.final_energy\n",
    "print(f\"Final energy: {final_energy} eV\")\n"
   ]
  },
  {
   "cell_type": "code",
   "execution_count": null,
   "id": "216c1a66-2933-4c58-8298-b904e1d4d506",
   "metadata": {},
   "outputs": [],
   "source": []
  },
  {
   "cell_type": "code",
   "execution_count": null,
   "id": "8efffdef-6278-408a-bb07-c7bae4c317de",
   "metadata": {},
   "outputs": [],
   "source": []
  },
  {
   "cell_type": "markdown",
   "id": "df67d1f6-a5d5-47c0-9ae5-445e0d3085ab",
   "metadata": {},
   "source": [
    "## DOS"
   ]
  },
  {
   "cell_type": "code",
   "execution_count": null,
   "id": "ed5b7160-5752-4b35-aaf3-3a33057bb423",
   "metadata": {},
   "outputs": [],
   "source": [
    "# Access the structure\n",
    "structure = vasprun.final_structure\n",
    "print(structure)\n",
    "\n",
    "# Access density of states (DOS) if included\n",
    "dos = vasprun.complete_dos\n",
    "print(dos)"
   ]
  },
  {
   "cell_type": "code",
   "execution_count": null,
   "id": "918a23de-0cee-43f9-8985-fda4461a8abb",
   "metadata": {},
   "outputs": [],
   "source": []
  },
  {
   "cell_type": "code",
   "execution_count": null,
   "id": "183f3249-4660-4fa7-a22a-d11f2c39cff3",
   "metadata": {},
   "outputs": [],
   "source": []
  },
  {
   "cell_type": "markdown",
   "id": "57f4887a-e276-459a-88b5-15154257dd55",
   "metadata": {},
   "source": [
    "## Thermodynamic stability"
   ]
  },
  {
   "cell_type": "code",
   "execution_count": null,
   "id": "4d7b01cc-0bb0-4280-8b18-affd785100eb",
   "metadata": {},
   "outputs": [],
   "source": [
    "from pymatgen.entries.compatibility import MaterialsProjectCompatibility\n"
   ]
  },
  {
   "cell_type": "code",
   "execution_count": null,
   "id": "778f7973-7f76-4776-b575-ad3490bbe41b",
   "metadata": {},
   "outputs": [],
   "source": []
  },
  {
   "cell_type": "code",
   "execution_count": null,
   "id": "e947af51-a475-470c-bb01-19529f1d026e",
   "metadata": {},
   "outputs": [],
   "source": [
    "comp_entry = ComputedEntry(vasprun.final_structure.composition, vasprun.final_energy)\n"
   ]
  },
  {
   "cell_type": "code",
   "execution_count": null,
   "id": "33c22e43-eab2-4b60-b562-48a8ae0d8b48",
   "metadata": {},
   "outputs": [],
   "source": [
    "elements = [el.symbol for el in comp.elements]  # elements in your compound\n",
    "\n",
    "with MPRester(api_key) as mpr:\n",
    "    entries = mpr.get_entries_in_chemsys(elements)  # all known phases in this system\n",
    "\n",
    "    "
   ]
  },
  {
   "cell_type": "code",
   "execution_count": null,
   "id": "a2391e08-2881-49a2-a275-3ee0a93baafc",
   "metadata": {},
   "outputs": [],
   "source": [
    "\n",
    "compat = MaterialsProjectCompatibility()\n",
    "entries = compat.process_entries(entries)\n",
    "\n",
    "# Also process your entry with the same corrections\n",
    "entry = compat.process_entry(entry)"
   ]
  },
  {
   "cell_type": "code",
   "execution_count": null,
   "id": "07f53e2e-dc59-4b07-80e7-182515124583",
   "metadata": {},
   "outputs": [],
   "source": [
    "all_entries = entries + [entry]\n",
    "pd = PhaseDiagram(all_entries)\n",
    "\n",
    "decomp, e_above_hull = pd.get_decomp_and_e_above_hull(entry)\n",
    "\n",
    "print(f\"Energy above hull: {e_above_hull:.4f} eV/atom\")\n",
    "\n",
    "if e_above_hull == 0:\n",
    "    print(\"Phase is thermodynamically stable\")\n",
    "elif e_above_hull < 0.05:\n",
    "    print(\"Phase is metastable\")\n",
    "else:\n",
    "    print(\"Phase is decomposes:\")\n",
    "    for k, v in decomp.items():\n",
    "        print(f\"  {k.composition.reduced_formula} : {v:.3f}\")\n",
    "\n",
    "\n"
   ]
  },
  {
   "cell_type": "code",
   "execution_count": null,
   "id": "3299cb92-428c-4664-93bc-cd34cf09e6d6",
   "metadata": {},
   "outputs": [],
   "source": []
  },
  {
   "cell_type": "code",
   "execution_count": null,
   "id": "06bbb4c0-cfca-4521-a5a9-72c1e042de23",
   "metadata": {},
   "outputs": [],
   "source": []
  },
  {
   "cell_type": "code",
   "execution_count": null,
   "id": "fbd95c6b-53fa-4fcb-bdc9-e39a32e79286",
   "metadata": {},
   "outputs": [],
   "source": []
  }
 ],
 "metadata": {
  "kernelspec": {
   "display_name": "default",
   "language": "python",
   "name": "default"
  },
  "language_info": {
   "codemirror_mode": {
    "name": "ipython",
    "version": 3
   },
   "file_extension": ".py",
   "mimetype": "text/x-python",
   "name": "python",
   "nbconvert_exporter": "python",
   "pygments_lexer": "ipython3",
   "version": "3.12.9"
  }
 },
 "nbformat": 4,
 "nbformat_minor": 5
}
